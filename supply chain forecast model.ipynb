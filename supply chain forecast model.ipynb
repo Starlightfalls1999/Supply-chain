{
 "cells": [
  {
   "cell_type": "code",
   "execution_count": 1,
   "id": "e8f72333-d971-4906-bffc-fd8c6970353b",
   "metadata": {},
   "outputs": [],
   "source": [
    "import pandas as pd"
   ]
  },
  {
   "cell_type": "code",
   "execution_count": null,
   "id": "b9e02a61-6928-4267-89e8-05a4ac380124",
   "metadata": {},
   "outputs": [],
   "source": [
    " "
   ]
  },
  {
   "cell_type": "code",
   "execution_count": 2,
   "id": "ee1b2664",
   "metadata": {},
   "outputs": [
    {
     "data": {
      "text/plain": [
       "1352231"
      ]
     },
     "execution_count": 2,
     "metadata": {},
     "output_type": "execute_result"
    }
   ],
   "source": [
    "eval=pd.read_csv('edd_eval_data.csv')\n",
    "len(eval)"
   ]
  },
  {
   "cell_type": "code",
   "execution_count": null,
   "id": "5fbef219-65db-4b90-ab94-05fa1ee24157",
   "metadata": {},
   "outputs": [],
   "source": [
    " "
   ]
  },
  {
   "cell_type": "code",
   "execution_count": null,
   "id": "68b05b52-abc6-4ba0-93ee-48941e2885e2",
   "metadata": {},
   "outputs": [],
   "source": [
    " "
   ]
  },
  {
   "cell_type": "code",
   "execution_count": null,
   "id": "8fff4e3a-8829-4a67-b658-7f452328ad02",
   "metadata": {},
   "outputs": [],
   "source": [
    " "
   ]
  },
  {
   "cell_type": "code",
   "execution_count": null,
   "id": "f6c5beba-80d8-4cc4-abf4-1092380a949b",
   "metadata": {},
   "outputs": [],
   "source": [
    " "
   ]
  },
  {
   "cell_type": "code",
   "execution_count": null,
   "id": "122245b7",
   "metadata": {},
   "outputs": [],
   "source": [
    " "
   ]
  },
  {
   "cell_type": "code",
   "execution_count": null,
   "id": "ae589d26",
   "metadata": {},
   "outputs": [],
   "source": [
    " "
   ]
  },
  {
   "cell_type": "code",
   "execution_count": null,
   "id": "50836556-92e3-403e-96d1-78fc330d95a6",
   "metadata": {},
   "outputs": [],
   "source": [
    " "
   ]
  },
  {
   "cell_type": "code",
   "execution_count": null,
   "id": "e64e49cb",
   "metadata": {},
   "outputs": [],
   "source": []
  },
  {
   "cell_type": "code",
   "execution_count": null,
   "id": "c22c70b9-382d-4390-b495-54cb742dedaf",
   "metadata": {},
   "outputs": [],
   "source": [
    " "
   ]
  },
  {
   "cell_type": "code",
   "execution_count": null,
   "id": "7fef69a0-006f-43f5-a223-c338b4e62dce",
   "metadata": {},
   "outputs": [],
   "source": []
  },
  {
   "cell_type": "code",
   "execution_count": null,
   "id": "bf1a7c64-6a51-4261-83ac-1512aba55ad8",
   "metadata": {},
   "outputs": [],
   "source": [
    " "
   ]
  },
  {
   "cell_type": "code",
   "execution_count": null,
   "id": "ec1ce8ae",
   "metadata": {},
   "outputs": [],
   "source": [
    " "
   ]
  },
  {
   "cell_type": "code",
   "execution_count": null,
   "id": "8f5493fc-e96b-4a8d-ad8a-cc1c3a948a91",
   "metadata": {},
   "outputs": [],
   "source": [
    " "
   ]
  },
  {
   "cell_type": "code",
   "execution_count": null,
   "id": "a534e745-6fea-42df-b66b-cb64c0f86f62",
   "metadata": {},
   "outputs": [],
   "source": [
    " "
   ]
  },
  {
   "cell_type": "code",
   "execution_count": null,
   "id": "440c3347-8e02-4ba2-8497-7ce4b3bae30e",
   "metadata": {},
   "outputs": [],
   "source": [
    " "
   ]
  },
  {
   "cell_type": "code",
   "execution_count": null,
   "id": "826a29a7-e59e-44ce-9f52-0c75201b894d",
   "metadata": {},
   "outputs": [],
   "source": [
    " "
   ]
  },
  {
   "cell_type": "code",
   "execution_count": null,
   "id": "ba884b43-f052-4cc7-964b-78e5d24ad839",
   "metadata": {},
   "outputs": [],
   "source": [
    " "
   ]
  },
  {
   "cell_type": "code",
   "execution_count": null,
   "id": "6f467c88-9483-4f12-94e3-77a23330446f",
   "metadata": {},
   "outputs": [],
   "source": [
    " "
   ]
  },
  {
   "cell_type": "code",
   "execution_count": null,
   "id": "3cebc15b-ba15-41c1-b49c-1250253cf680",
   "metadata": {},
   "outputs": [],
   "source": [
    " "
   ]
  },
  {
   "cell_type": "code",
   "execution_count": null,
   "id": "b6f0db4d-7705-4bf3-9ca6-bd1b606606b1",
   "metadata": {},
   "outputs": [],
   "source": [
    " "
   ]
  },
  {
   "cell_type": "code",
   "execution_count": null,
   "id": "8ae6f15a-73a3-4707-afd9-07707531880a",
   "metadata": {},
   "outputs": [],
   "source": [
    " "
   ]
  },
  {
   "cell_type": "code",
   "execution_count": null,
   "id": "e48144a1-bd87-48ec-a7ea-d61c9e4afffa",
   "metadata": {},
   "outputs": [],
   "source": [
    " "
   ]
  },
  {
   "cell_type": "code",
   "execution_count": null,
   "id": "3990716b-71fd-4e84-bfa6-fc6c435b5004",
   "metadata": {},
   "outputs": [],
   "source": [
    " "
   ]
  },
  {
   "cell_type": "code",
   "execution_count": null,
   "id": "8c02b1d8-f7fe-4e11-8cf1-9347d3ca77f7",
   "metadata": {},
   "outputs": [],
   "source": [
    " "
   ]
  },
  {
   "cell_type": "code",
   "execution_count": null,
   "id": "3cce8ed9-8194-46de-9fd4-c56eb8aa793e",
   "metadata": {},
   "outputs": [],
   "source": [
    " "
   ]
  },
  {
   "cell_type": "code",
   "execution_count": null,
   "id": "b0e4d8b2-20d0-405b-95fa-a66a0b4cbc83",
   "metadata": {},
   "outputs": [],
   "source": [
    " "
   ]
  },
  {
   "cell_type": "code",
   "execution_count": null,
   "id": "3b9f8420-9749-4ab2-98aa-980f667d8e37",
   "metadata": {},
   "outputs": [],
   "source": [
    " "
   ]
  },
  {
   "cell_type": "code",
   "execution_count": null,
   "id": "7b708b41-b5b7-40b8-83ac-3a1ec470ee94",
   "metadata": {},
   "outputs": [],
   "source": [
    " "
   ]
  },
  {
   "cell_type": "code",
   "execution_count": null,
   "id": "8799d034-eb33-4a01-a50a-2544cb118b6e",
   "metadata": {},
   "outputs": [],
   "source": []
  },
  {
   "cell_type": "code",
   "execution_count": null,
   "id": "c94ce6bb-413a-4315-ab64-9d399d734fbf",
   "metadata": {},
   "outputs": [],
   "source": [
    " "
   ]
  },
  {
   "cell_type": "code",
   "execution_count": null,
   "id": "b21e0eac-7728-4f65-a94d-6c0988461829",
   "metadata": {},
   "outputs": [],
   "source": [
    " "
   ]
  },
  {
   "cell_type": "code",
   "execution_count": null,
   "id": "52d34073-cd43-404e-a421-2e93a0bc99b9",
   "metadata": {},
   "outputs": [],
   "source": [
    " "
   ]
  },
  {
   "cell_type": "code",
   "execution_count": null,
   "id": "c27a64c7-2f5d-467e-91f1-e9afbad497de",
   "metadata": {},
   "outputs": [],
   "source": [
    " "
   ]
  },
  {
   "cell_type": "code",
   "execution_count": null,
   "id": "9393d4a6-9ee7-47ca-bca6-a81c88dc4f58",
   "metadata": {},
   "outputs": [],
   "source": [
    " "
   ]
  },
  {
   "cell_type": "code",
   "execution_count": null,
   "id": "1c50f3f9-9b22-4cd2-a532-752716596aab",
   "metadata": {},
   "outputs": [],
   "source": [
    " "
   ]
  },
  {
   "cell_type": "code",
   "execution_count": null,
   "id": "abe6310f-67f5-4e21-9fd9-2a9cee4dfaa8",
   "metadata": {},
   "outputs": [],
   "source": []
  },
  {
   "cell_type": "code",
   "execution_count": null,
   "id": "3a8c78dd-638a-40c8-b5c3-edb91c31b9a1",
   "metadata": {},
   "outputs": [],
   "source": [
    " "
   ]
  },
  {
   "cell_type": "code",
   "execution_count": null,
   "id": "f6e83d4e-20a8-482e-8eec-3c1fa829d1b5",
   "metadata": {},
   "outputs": [],
   "source": [
    " "
   ]
  },
  {
   "cell_type": "code",
   "execution_count": null,
   "id": "f0989929-a359-42dd-9446-57f69a742d4a",
   "metadata": {},
   "outputs": [],
   "source": []
  },
  {
   "cell_type": "code",
   "execution_count": null,
   "id": "2c455ab4-6dff-4054-a966-0d0fa4d8b8d7",
   "metadata": {},
   "outputs": [],
   "source": [
    " "
   ]
  },
  {
   "cell_type": "code",
   "execution_count": null,
   "id": "ed60e77b-317a-4e7f-9e23-c2476d15ab89",
   "metadata": {},
   "outputs": [],
   "source": [
    " "
   ]
  },
  {
   "cell_type": "code",
   "execution_count": 43,
   "id": "e94f7217-3126-4461-acfe-f161a119c554",
   "metadata": {},
   "outputs": [],
   "source": [
    " "
   ]
  },
  {
   "cell_type": "code",
   "execution_count": null,
   "id": "d7563a91-6713-4305-805a-f367f9119e3b",
   "metadata": {},
   "outputs": [],
   "source": [
    " len(eval.dropna(axis=0, how='any',inplace=true))/len(eval)"
   ]
  },
  {
   "cell_type": "code",
   "execution_count": 4,
   "id": "83242062",
   "metadata": {},
   "outputs": [],
   "source": [
    "eval.drop('fmc_days_to_delivery', axis=1, inplace=True)"
   ]
  },
  {
   "cell_type": "code",
   "execution_count": 370,
   "id": "187bde8c-ab89-453f-8b75-c2777e15be8f",
   "metadata": {},
   "outputs": [
    {
     "data": {
      "text/plain": [
       "1136460"
      ]
     },
     "execution_count": 370,
     "metadata": {},
     "output_type": "execute_result"
    }
   ],
   "source": [
    "len(eval.dropna())"
   ]
  },
  {
   "cell_type": "code",
   "execution_count": 372,
   "id": "2e02b6c8",
   "metadata": {},
   "outputs": [],
   "source": [
    "eval.dropna(axis=0, how='any',inplace=True)"
   ]
  },
  {
   "cell_type": "code",
   "execution_count": null,
   "id": "7a1f5f53-792e-459a-b829-88a530988bcc",
   "metadata": {},
   "outputs": [],
   "source": [
    " "
   ]
  },
  {
   "cell_type": "code",
   "execution_count": 373,
   "id": "9da9dabd",
   "metadata": {},
   "outputs": [
    {
     "data": {
      "text/plain": [
       "1136460"
      ]
     },
     "execution_count": 373,
     "metadata": {},
     "output_type": "execute_result"
    }
   ],
   "source": [
    "len(eval)"
   ]
  },
  {
   "cell_type": "code",
   "execution_count": 374,
   "id": "ea002dc0-bb5f-42ae-936c-e8a1578a6c64",
   "metadata": {},
   "outputs": [],
   "source": [
    "zip_mapping=pd.read_csv('DS0500.csv',low_memory=False)\n",
    "zip_mapping.head()\n",
    "\n",
    "zip_to_lat=dict(zip(zip_mapping.EVENZIP5,zip_mapping.Latitude))\n",
    "\n",
    "zip_to_lon=dict(zip(zip_mapping.EVENZIP5,zip_mapping.Longitude))\n",
    " "
   ]
  },
  {
   "cell_type": "code",
   "execution_count": 375,
   "id": "bc326689",
   "metadata": {},
   "outputs": [],
   "source": [
    "zip_to_tz=dict(zip(zip_mapping.EVENZIP5,zip_mapping.TIMEZONE))"
   ]
  },
  {
   "cell_type": "code",
   "execution_count": 376,
   "id": "3762fa79",
   "metadata": {},
   "outputs": [],
   "source": [
    "def des_lon(x):\n",
    "    return zip_to_lon[x]\n",
    "\n",
    "def des_lat(x):\n",
    "    return zip_to_lat[x]\n",
    "\n",
    "def des_tz(x):\n",
    "    return zip_to_tz[x]\n",
    "\n",
    "eval['des_lon']=eval['destination_zipcode'].apply(des_lon)\n",
    "eval['des_lat']=eval['destination_zipcode'].apply(des_lat)\n",
    " \n",
    "eval['des_tz']=eval['destination_zipcode'].apply(des_tz)"
   ]
  },
  {
   "cell_type": "code",
   "execution_count": null,
   "id": "38f605eb",
   "metadata": {},
   "outputs": [],
   "source": [
    " "
   ]
  },
  {
   "cell_type": "code",
   "execution_count": 377,
   "id": "2f70bfc8-3956-47d6-9ae1-13490346fd90",
   "metadata": {},
   "outputs": [
    {
     "data": {
      "text/html": [
       "<div>\n",
       "<style scoped>\n",
       "    .dataframe tbody tr th:only-of-type {\n",
       "        vertical-align: middle;\n",
       "    }\n",
       "\n",
       "    .dataframe tbody tr th {\n",
       "        vertical-align: top;\n",
       "    }\n",
       "\n",
       "    .dataframe thead th {\n",
       "        text-align: right;\n",
       "    }\n",
       "</style>\n",
       "<table border=\"1\" class=\"dataframe\">\n",
       "  <thead>\n",
       "    <tr style=\"text-align: right;\">\n",
       "      <th></th>\n",
       "      <th>shipper_id</th>\n",
       "      <th>origin_name</th>\n",
       "      <th>event_city</th>\n",
       "      <th>event_state</th>\n",
       "      <th>event_zipcode</th>\n",
       "      <th>event_lat</th>\n",
       "      <th>event_lng</th>\n",
       "    </tr>\n",
       "  </thead>\n",
       "  <tbody>\n",
       "    <tr>\n",
       "      <th>0</th>\n",
       "      <td>102</td>\n",
       "      <td>Culture Kings</td>\n",
       "      <td>Chino</td>\n",
       "      <td>CA</td>\n",
       "      <td>91710</td>\n",
       "      <td>34.00507</td>\n",
       "      <td>-117.68249</td>\n",
       "    </tr>\n",
       "    <tr>\n",
       "      <th>1</th>\n",
       "      <td>102</td>\n",
       "      <td>mnml</td>\n",
       "      <td>Chino</td>\n",
       "      <td>CA</td>\n",
       "      <td>91710</td>\n",
       "      <td>34.00507</td>\n",
       "      <td>-117.68249</td>\n",
       "    </tr>\n",
       "    <tr>\n",
       "      <th>2</th>\n",
       "      <td>102</td>\n",
       "      <td>JLUXLABEL</td>\n",
       "      <td>Chino</td>\n",
       "      <td>CA</td>\n",
       "      <td>91710</td>\n",
       "      <td>34.00507</td>\n",
       "      <td>-117.68249</td>\n",
       "    </tr>\n",
       "    <tr>\n",
       "      <th>3</th>\n",
       "      <td>114</td>\n",
       "      <td>ALLBIRDS C/O UPS SCS</td>\n",
       "      <td>Shepherdsville</td>\n",
       "      <td>KY</td>\n",
       "      <td>40165</td>\n",
       "      <td>37.99407</td>\n",
       "      <td>-85.68918</td>\n",
       "    </tr>\n",
       "    <tr>\n",
       "      <th>4</th>\n",
       "      <td>117</td>\n",
       "      <td>ALLBIRDS C/O UPS SCS</td>\n",
       "      <td>Bloomington</td>\n",
       "      <td>CA</td>\n",
       "      <td>92316</td>\n",
       "      <td>34.05760</td>\n",
       "      <td>-117.39076</td>\n",
       "    </tr>\n",
       "  </tbody>\n",
       "</table>\n",
       "</div>"
      ],
      "text/plain": [
       "   shipper_id           origin_name      event_city event_state  \\\n",
       "0         102         Culture Kings           Chino          CA   \n",
       "1         102                  mnml           Chino          CA   \n",
       "2         102             JLUXLABEL           Chino          CA   \n",
       "3         114  ALLBIRDS C/O UPS SCS  Shepherdsville          KY   \n",
       "4         117  ALLBIRDS C/O UPS SCS     Bloomington          CA   \n",
       "\n",
       "   event_zipcode  event_lat  event_lng  \n",
       "0          91710   34.00507 -117.68249  \n",
       "1          91710   34.00507 -117.68249  \n",
       "2          91710   34.00507 -117.68249  \n",
       "3          40165   37.99407  -85.68918  \n",
       "4          92316   34.05760 -117.39076  "
      ]
     },
     "execution_count": 377,
     "metadata": {},
     "output_type": "execute_result"
    }
   ],
   "source": [
    "shipper=pd.read_csv('marego_shipper.csv')\n",
    "shipper.head()"
   ]
  },
  {
   "cell_type": "code",
   "execution_count": null,
   "id": "71df132c",
   "metadata": {},
   "outputs": [],
   "source": []
  },
  {
   "cell_type": "code",
   "execution_count": 378,
   "id": "a47a2f53-6a65-4bb7-bb79-4890cb9d70c3",
   "metadata": {},
   "outputs": [
    {
     "data": {
      "text/plain": [
       "provider                  0\n",
       "provider_status           0\n",
       "provider_tracking_code    0\n",
       "shipper_id                0\n",
       "origin_name               0\n",
       "                         ..\n",
       "sin_weekday               0\n",
       "origin_zip                0\n",
       "des_tz                    0\n",
       "distance_percentage       0\n",
       "res_v_y                   0\n",
       "Length: 65, dtype: int64"
      ]
     },
     "execution_count": 378,
     "metadata": {},
     "output_type": "execute_result"
    }
   ],
   "source": [
    " eval.isnull().sum()"
   ]
  },
  {
   "cell_type": "code",
   "execution_count": 379,
   "id": "93a502b2-762e-463e-91a7-866db424b120",
   "metadata": {},
   "outputs": [],
   "source": [
    "# map origin and destination zip to each row\n",
    "# use merge maybe faster?\n",
    "\n",
    "ori_lon=dict(zip(shipper.shipper_id,shipper.event_lng))\n",
    "\n",
    "ori_lat=dict(zip(shipper.shipper_id,shipper.event_lat))\n",
    "\n",
    "ori_zip=dict(zip(shipper.shipper_id,shipper.event_zipcode))\n",
    "\n",
    "def ori_map_lon(x):\n",
    "    try:\n",
    "        return ori_lon[x]\n",
    "    except: \n",
    "        return None\n",
    "def ori_map_lat(x):\n",
    "    try:\n",
    "        return ori_lat[x]\n",
    "    except:\n",
    "        return None\n",
    "   \n",
    "\n",
    "def ori_map_zip(x):\n",
    "    try:\n",
    "        return ori_zip[x]\n",
    "    except:\n",
    "        return None\n",
    " \n",
    "    \n",
    "\n",
    "eval['origin_lon']=eval['shipper_id'].apply(ori_map_lon)\n",
    "eval['origin_lat']=eval['shipper_id'].apply(ori_map_lat)\n",
    "eval['origin_zip']=eval['shipper_id'].apply(ori_map_zip)\n"
   ]
  },
  {
   "cell_type": "code",
   "execution_count": 380,
   "id": "f8620c6f-2290-4518-9023-fa530724a4ea",
   "metadata": {},
   "outputs": [],
   "source": [
    "from math import sin\n",
    "from math import cos\n",
    "from math import atan2\n",
    "from math import sqrt\n",
    "\n",
    "def get_distance(lat1,lon1,lat2,lon2):\n",
    "    R = 6370\n",
    "    dlon = lon2 - lon1\n",
    "    dlat = lat2- lat1\n",
    "    a = sin(dlat / 2)**2 + cos(lat1) * cos(lat2) * sin(dlon / 2)**2\n",
    "    c = 2 * atan2(sqrt(a), sqrt(1-a))\n",
    "    distance = R * c\n",
    "    return distance\n",
    "\n",
    "eval['distance_ori']   = eval.apply(lambda x: get_distance(x.origin_lat, x.origin_lon,x.event_lat, x.event_lng) ,axis=1)\n",
    "eval['distance_des']   = eval.apply(lambda x: get_distance(x.des_lat, x.des_lon,x.event_lat, x.event_lng) ,axis=1)\n"
   ]
  },
  {
   "cell_type": "code",
   "execution_count": 381,
   "id": "95ece8fa",
   "metadata": {},
   "outputs": [],
   "source": [
    "eval['distance_percentage']=eval['distance_des']/(eval['distance_des']+eval['distance_ori'])"
   ]
  },
  {
   "cell_type": "code",
   "execution_count": 382,
   "id": "0c7f0f78-6908-406b-a141-3fe6b90b122e",
   "metadata": {},
   "outputs": [],
   "source": [
    "from datetime import datetime\n",
    "from dateutil import tz"
   ]
  },
  {
   "cell_type": "code",
   "execution_count": 383,
   "id": "e23fe058",
   "metadata": {},
   "outputs": [],
   "source": [
    "from_zone = tz.gettz('UTC')\n",
    "\n",
    "def get_local_tz(timezone,utc):\n",
    "    to_zone = tz.gettz(timezone)\n",
    "    utc = utc.replace(tzinfo=from_zone)\n",
    "    return utc.astimezone(to_zone)"
   ]
  },
  {
   "cell_type": "code",
   "execution_count": null,
   "id": "a693340e",
   "metadata": {},
   "outputs": [],
   "source": []
  },
  {
   "cell_type": "code",
   "execution_count": null,
   "id": "41eb462f",
   "metadata": {},
   "outputs": [],
   "source": []
  },
  {
   "cell_type": "code",
   "execution_count": 384,
   "id": "759fb5bd",
   "metadata": {},
   "outputs": [],
   "source": [
    "def get_timestamp(x):\n",
    "    \n",
    "    t=x.split('.')[0]\n",
    "    #try:\n",
    "    return datetime.strptime(t, '%Y-%m-%d %H:%M:%S')\n",
    "    #except:\n",
    "      #  return datetime(2022, 12, 31, 0, 0)\n",
    "    \n",
    "eval['format_event_date_time_local']=eval['event_date_time_local'].apply(get_timestamp)"
   ]
  },
  {
   "cell_type": "code",
   "execution_count": 385,
   "id": "ed0502f3",
   "metadata": {},
   "outputs": [],
   "source": [
    "eval['format_event_date_time_local']=eval['format_event_date_time_local'].apply(lambda x: x.replace(tzinfo=None))\n"
   ]
  },
  {
   "cell_type": "code",
   "execution_count": null,
   "id": "70256528",
   "metadata": {},
   "outputs": [],
   "source": []
  },
  {
   "cell_type": "code",
   "execution_count": 386,
   "id": "41d71c17",
   "metadata": {},
   "outputs": [],
   "source": [
    "import time\n",
    "import datetime\n",
    "import math\n",
    "import numpy as np\n",
    " \n",
    "\n",
    "eval['pracel_month']=eval['format_event_date_time_local'].apply(lambda x:x.month)\n",
    "\n",
    "eval[\"month_norm\"] = 2 * math.pi * eval['pracel_month'] / eval['pracel_month'].max()\n",
    "\n",
    "eval[\"cos_month\"] = np.cos(eval['month_norm'])\n",
    "eval[\"sin_month\"] = np.sin(eval['month_norm'])"
   ]
  },
  {
   "cell_type": "code",
   "execution_count": 387,
   "id": "bd6fcdd0",
   "metadata": {},
   "outputs": [],
   "source": [
    "eval['pracel_week']=eval['format_event_date_time_local'].apply((lambda x:x.isocalendar()[1]))\n",
    "\n",
    "eval[\"week_norm\"] = 2 * math.pi * eval['pracel_week'] / eval['pracel_week'].max()\n",
    "\n",
    "eval[\"cos_week\"] = np.cos(eval['week_norm'])\n",
    "eval[\"sin_week\"] = np.sin(eval['week_norm'])"
   ]
  },
  {
   "cell_type": "code",
   "execution_count": 388,
   "id": "28c36fc4",
   "metadata": {},
   "outputs": [],
   "source": [
    "eval['pracel_weekday']=eval['format_event_date_time_local'].apply((lambda x:x.weekday()))\n",
    "\n",
    "eval[\"weekday_norm\"] = 2 * math.pi * eval['pracel_weekday'] / eval['pracel_weekday'].max()\n",
    "\n",
    "eval[\"cos_weekday\"] = np.cos(eval['weekday_norm'])\n",
    "eval[\"sin_weekday\"] = np.sin(eval['weekday_norm'])"
   ]
  },
  {
   "cell_type": "code",
   "execution_count": 389,
   "id": "7c2139f9",
   "metadata": {},
   "outputs": [
    {
     "data": {
      "text/plain": [
       "Index(['provider', 'provider_status', 'provider_tracking_code', 'shipper_id',\n",
       "       'origin_name', 'maergo_internal_status', 'maergo_external_status',\n",
       "       'maergo_tracking_code', 'maergo_message', 'event_date_time_utc',\n",
       "       'event_date_time_local', 'event_time_zone', 'label_created_date_time',\n",
       "       'event_city', 'event_state', 'event_zipcode', 'event_lat', 'event_lng',\n",
       "       'destination_city', 'destination_state', 'destination_zipcode',\n",
       "       'destination_country', 'hidden', 'distribution_center_id', 'client_id',\n",
       "       'event_id', 'delivery_event_id', 'sort_center', 'sort_code',\n",
       "       'origin_lon', 'origin_lat', 'distance_ori', 'des_lon', 'des_lat',\n",
       "       'distance_des', 'format_event_date_time_local', 'pracel_month',\n",
       "       'month_norm', 'cos_month', 'sin_month', 'pracel_week', 'week_norm',\n",
       "       'cos_week', 'sin_week', 'y_eval_H', 'y_eval_V',\n",
       "       'estimated_delivery_time_local', 'estimated_delivery_date_H',\n",
       "       'estimated_delivery_date1_H', 'estimated_delivery_date_V', 'y_true',\n",
       "       'date_true', 'date_true_format', 'timezone', 'format_date_true_local',\n",
       "       'res_v', 'res_h', 'pracel_weekday', 'weekday_norm', 'cos_weekday',\n",
       "       'sin_weekday', 'origin_zip', 'des_tz', 'distance_percentage',\n",
       "       'res_v_y'],\n",
       "      dtype='object')"
      ]
     },
     "execution_count": 389,
     "metadata": {},
     "output_type": "execute_result"
    }
   ],
   "source": [
    "eval.columns"
   ]
  },
  {
   "cell_type": "code",
   "execution_count": null,
   "id": "1205e75e",
   "metadata": {},
   "outputs": [],
   "source": []
  },
  {
   "cell_type": "code",
   "execution_count": 390,
   "id": "e30036de",
   "metadata": {},
   "outputs": [],
   "source": [
    "cat_fea=['provider_status' , \n",
    "         'origin_name' , \n",
    "         'maergo_external_status' , \n",
    "         'event_time_zone' ,\n",
    "         'event_zipcode', \n",
    "         'destination_zipcode',\n",
    "         'sort_code',\n",
    "         \n",
    "         'provider',\n",
    "         'maergo_internal_status',\n",
    "         'origin_zip',\n",
    "         'shipper_id',\n",
    "         'des_tz',\n",
    "         \n",
    "         \n",
    "        ]\n",
    "\n",
    "num_fea=[\n",
    " 'event_lat',\n",
    " 'event_lng',\n",
    " 'des_lon',\n",
    " 'des_lat',\n",
    " 'origin_lon',\n",
    " 'origin_lat',\n",
    "     \n",
    " 'distance_ori',\n",
    " 'distance_des',\n",
    " 'distance_percentage',\n",
    "     \n",
    " 'pracel_month',\n",
    " 'cos_month',\n",
    " 'sin_month',\n",
    "     \n",
    " 'pracel_weekday',                                        \n",
    " 'cos_weekday',                        \n",
    " 'sin_weekday',     \n",
    "     \n",
    " 'pracel_week',                                                 \n",
    " 'cos_week',                           \n",
    " 'sin_week',  \n",
    "     \n",
    " ]\n",
    "    \n",
    " "
   ]
  },
  {
   "cell_type": "code",
   "execution_count": 391,
   "id": "944a968b",
   "metadata": {},
   "outputs": [
    {
     "data": {
      "text/plain": [
       "30"
      ]
     },
     "execution_count": 391,
     "metadata": {},
     "output_type": "execute_result"
    }
   ],
   "source": [
    "len(num_fea+cat_fea)"
   ]
  },
  {
   "cell_type": "code",
   "execution_count": null,
   "id": "c3c9a893",
   "metadata": {},
   "outputs": [],
   "source": []
  },
  {
   "cell_type": "code",
   "execution_count": 392,
   "id": "6cc49262",
   "metadata": {},
   "outputs": [],
   "source": [
    "eval[num_fea+cat_fea]\n",
    "\n",
    "eval['provider']=eval['provider'].astype(\"category\")\n",
    "\n",
    " \n",
    "eval['provider_status']=eval['provider_status'].astype(\"category\")\n",
    "eval['origin_name']=eval['origin_name'].astype(\"category\")\n",
    "eval['maergo_external_status']=eval['maergo_external_status'].astype(\"category\")\n",
    " \n",
    "eval['maergo_message']=eval['maergo_message'].astype(\"category\")\n",
    " \n",
    "eval['event_time_zone']=eval['event_time_zone'].astype(\"category\")\n",
    "eval['event_zipcode']=eval['event_zipcode'].astype(\"category\")\n",
    "eval['destination_city']=eval['destination_city'].astype(\"category\")\n",
    "eval['destination_state']=eval['destination_state'].astype(\"category\")\n",
    "eval['destination_zipcode']=eval['destination_zipcode'].astype(\"category\")\n",
    "eval['destination_country']=eval['destination_country'].astype(\"category\")\n",
    "eval['sort_code']=eval['sort_code'].astype(\"category\")\n",
    "\n",
    "eval['provider']=eval['provider'].astype(\"category\")\n",
    "eval['maergo_internal_status']=eval['maergo_internal_status'].astype(\"category\")\n",
    "eval['origin_zip']=eval['origin_zip'].astype(\"category\")\n",
    "eval['shipper_id']=eval['shipper_id'].astype(\"category\")\n",
    "eval['des_tz']=eval['des_tz'].astype(\"category\")"
   ]
  },
  {
   "cell_type": "code",
   "execution_count": 393,
   "id": "368bc029",
   "metadata": {},
   "outputs": [
    {
     "data": {
      "text/html": [
       "<div>\n",
       "<style scoped>\n",
       "    .dataframe tbody tr th:only-of-type {\n",
       "        vertical-align: middle;\n",
       "    }\n",
       "\n",
       "    .dataframe tbody tr th {\n",
       "        vertical-align: top;\n",
       "    }\n",
       "\n",
       "    .dataframe thead th {\n",
       "        text-align: right;\n",
       "    }\n",
       "</style>\n",
       "<table border=\"1\" class=\"dataframe\">\n",
       "  <thead>\n",
       "    <tr style=\"text-align: right;\">\n",
       "      <th></th>\n",
       "      <th>provider</th>\n",
       "      <th>provider_status</th>\n",
       "      <th>provider_tracking_code</th>\n",
       "      <th>shipper_id</th>\n",
       "      <th>origin_name</th>\n",
       "      <th>maergo_internal_status</th>\n",
       "      <th>maergo_external_status</th>\n",
       "      <th>maergo_tracking_code</th>\n",
       "      <th>maergo_message</th>\n",
       "      <th>event_date_time_utc</th>\n",
       "      <th>...</th>\n",
       "      <th>res_v</th>\n",
       "      <th>res_h</th>\n",
       "      <th>pracel_weekday</th>\n",
       "      <th>weekday_norm</th>\n",
       "      <th>cos_weekday</th>\n",
       "      <th>sin_weekday</th>\n",
       "      <th>origin_zip</th>\n",
       "      <th>des_tz</th>\n",
       "      <th>distance_percentage</th>\n",
       "      <th>res_v_y</th>\n",
       "    </tr>\n",
       "  </thead>\n",
       "  <tbody>\n",
       "    <tr>\n",
       "      <th>0</th>\n",
       "      <td>OLX_PLD</td>\n",
       "      <td>Label Created</td>\n",
       "      <td>1LSCYJR001XVOOQ</td>\n",
       "      <td>102</td>\n",
       "      <td>mnml</td>\n",
       "      <td>Label Created</td>\n",
       "      <td>Label Created</td>\n",
       "      <td>XLX0360017C9K8F15</td>\n",
       "      <td>Label has been created</td>\n",
       "      <td>2023-06-14 17:17:46.344000</td>\n",
       "      <td>...</td>\n",
       "      <td>1</td>\n",
       "      <td>1</td>\n",
       "      <td>2</td>\n",
       "      <td>2.094395</td>\n",
       "      <td>-0.5</td>\n",
       "      <td>8.660254e-01</td>\n",
       "      <td>91710.0</td>\n",
       "      <td>America/New_York</td>\n",
       "      <td>1.00000</td>\n",
       "      <td>1.0</td>\n",
       "    </tr>\n",
       "    <tr>\n",
       "      <th>1</th>\n",
       "      <td>LASERSHIP</td>\n",
       "      <td>DLVD</td>\n",
       "      <td>1LSCYJR001V2YT2</td>\n",
       "      <td>102</td>\n",
       "      <td>That's So Fetch</td>\n",
       "      <td>Delivered</td>\n",
       "      <td>Delivered</td>\n",
       "      <td>XLX0360016X9F8HFS</td>\n",
       "      <td>Your package has been delivered</td>\n",
       "      <td>2023-06-01 21:27:24.000000</td>\n",
       "      <td>...</td>\n",
       "      <td>2</td>\n",
       "      <td>2</td>\n",
       "      <td>3</td>\n",
       "      <td>3.141593</td>\n",
       "      <td>-1.0</td>\n",
       "      <td>1.224647e-16</td>\n",
       "      <td>91710.0</td>\n",
       "      <td>America/New_York</td>\n",
       "      <td>0.00256</td>\n",
       "      <td>2.0</td>\n",
       "    </tr>\n",
       "    <tr>\n",
       "      <th>2</th>\n",
       "      <td>LASERSHIP</td>\n",
       "      <td>ARRD</td>\n",
       "      <td>1LSCYJR001V2YT2</td>\n",
       "      <td>102</td>\n",
       "      <td>That's So Fetch</td>\n",
       "      <td>In-Transit: Processing at Facility</td>\n",
       "      <td>In-Transit</td>\n",
       "      <td>XLX0360016X9F8HFS</td>\n",
       "      <td>Package is processing at facility</td>\n",
       "      <td>2023-06-01 12:29:15.000000</td>\n",
       "      <td>...</td>\n",
       "      <td>2</td>\n",
       "      <td>2</td>\n",
       "      <td>3</td>\n",
       "      <td>3.141593</td>\n",
       "      <td>-1.0</td>\n",
       "      <td>1.224647e-16</td>\n",
       "      <td>91710.0</td>\n",
       "      <td>America/New_York</td>\n",
       "      <td>0.00256</td>\n",
       "      <td>2.0</td>\n",
       "    </tr>\n",
       "    <tr>\n",
       "      <th>3</th>\n",
       "      <td>LASERSHIP</td>\n",
       "      <td>LOAD</td>\n",
       "      <td>1LSCYJR001V2YT2</td>\n",
       "      <td>102</td>\n",
       "      <td>That's So Fetch</td>\n",
       "      <td>In-Transit: Departed Facility</td>\n",
       "      <td>In-Transit</td>\n",
       "      <td>XLX0360016X9F8HFS</td>\n",
       "      <td>Package has departed facility</td>\n",
       "      <td>2023-06-01 14:40:31.000000</td>\n",
       "      <td>...</td>\n",
       "      <td>2</td>\n",
       "      <td>2</td>\n",
       "      <td>3</td>\n",
       "      <td>3.141593</td>\n",
       "      <td>-1.0</td>\n",
       "      <td>1.224647e-16</td>\n",
       "      <td>91710.0</td>\n",
       "      <td>America/New_York</td>\n",
       "      <td>0.00256</td>\n",
       "      <td>2.0</td>\n",
       "    </tr>\n",
       "    <tr>\n",
       "      <th>4</th>\n",
       "      <td>LASERSHIP</td>\n",
       "      <td>OFDL</td>\n",
       "      <td>1LSCYJR001V2YT2</td>\n",
       "      <td>102</td>\n",
       "      <td>That's So Fetch</td>\n",
       "      <td>Out for Delivery</td>\n",
       "      <td>Out for Delivery</td>\n",
       "      <td>XLX0360016X9F8HFS</td>\n",
       "      <td>Out for delivery</td>\n",
       "      <td>2023-06-01 14:40:40.000000</td>\n",
       "      <td>...</td>\n",
       "      <td>2</td>\n",
       "      <td>2</td>\n",
       "      <td>3</td>\n",
       "      <td>3.141593</td>\n",
       "      <td>-1.0</td>\n",
       "      <td>1.224647e-16</td>\n",
       "      <td>91710.0</td>\n",
       "      <td>America/New_York</td>\n",
       "      <td>0.00256</td>\n",
       "      <td>2.0</td>\n",
       "    </tr>\n",
       "  </tbody>\n",
       "</table>\n",
       "<p>5 rows × 65 columns</p>\n",
       "</div>"
      ],
      "text/plain": [
       "    provider provider_status provider_tracking_code shipper_id  \\\n",
       "0    OLX_PLD   Label Created        1LSCYJR001XVOOQ        102   \n",
       "1  LASERSHIP            DLVD        1LSCYJR001V2YT2        102   \n",
       "2  LASERSHIP            ARRD        1LSCYJR001V2YT2        102   \n",
       "3  LASERSHIP            LOAD        1LSCYJR001V2YT2        102   \n",
       "4  LASERSHIP            OFDL        1LSCYJR001V2YT2        102   \n",
       "\n",
       "       origin_name              maergo_internal_status maergo_external_status  \\\n",
       "0             mnml                       Label Created          Label Created   \n",
       "1  That's So Fetch                           Delivered              Delivered   \n",
       "2  That's So Fetch  In-Transit: Processing at Facility             In-Transit   \n",
       "3  That's So Fetch       In-Transit: Departed Facility             In-Transit   \n",
       "4  That's So Fetch                    Out for Delivery       Out for Delivery   \n",
       "\n",
       "  maergo_tracking_code                     maergo_message  \\\n",
       "0    XLX0360017C9K8F15             Label has been created   \n",
       "1    XLX0360016X9F8HFS    Your package has been delivered   \n",
       "2    XLX0360016X9F8HFS  Package is processing at facility   \n",
       "3    XLX0360016X9F8HFS      Package has departed facility   \n",
       "4    XLX0360016X9F8HFS                   Out for delivery   \n",
       "\n",
       "          event_date_time_utc  ... res_v res_h pracel_weekday weekday_norm  \\\n",
       "0  2023-06-14 17:17:46.344000  ...     1     1              2     2.094395   \n",
       "1  2023-06-01 21:27:24.000000  ...     2     2              3     3.141593   \n",
       "2  2023-06-01 12:29:15.000000  ...     2     2              3     3.141593   \n",
       "3  2023-06-01 14:40:31.000000  ...     2     2              3     3.141593   \n",
       "4  2023-06-01 14:40:40.000000  ...     2     2              3     3.141593   \n",
       "\n",
       "  cos_weekday   sin_weekday  origin_zip            des_tz distance_percentage  \\\n",
       "0        -0.5  8.660254e-01     91710.0  America/New_York             1.00000   \n",
       "1        -1.0  1.224647e-16     91710.0  America/New_York             0.00256   \n",
       "2        -1.0  1.224647e-16     91710.0  America/New_York             0.00256   \n",
       "3        -1.0  1.224647e-16     91710.0  America/New_York             0.00256   \n",
       "4        -1.0  1.224647e-16     91710.0  America/New_York             0.00256   \n",
       "\n",
       "  res_v_y  \n",
       "0     1.0  \n",
       "1     2.0  \n",
       "2     2.0  \n",
       "3     2.0  \n",
       "4     2.0  \n",
       "\n",
       "[5 rows x 65 columns]"
      ]
     },
     "execution_count": 393,
     "metadata": {},
     "output_type": "execute_result"
    }
   ],
   "source": [
    "eval.head()"
   ]
  },
  {
   "cell_type": "code",
   "execution_count": null,
   "id": "fd80b56e",
   "metadata": {},
   "outputs": [],
   "source": []
  },
  {
   "cell_type": "code",
   "execution_count": 394,
   "id": "88f7e696",
   "metadata": {},
   "outputs": [],
   "source": [
    "import lightgbm as lgbm"
   ]
  },
  {
   "cell_type": "code",
   "execution_count": 395,
   "id": "b6afc7a8",
   "metadata": {},
   "outputs": [],
   "source": [
    "#horizontal model\n",
    "#clf1.save_model('lgm_reg_0713_percentage.txt', num_iteration=clf1.best_iteration)\n",
    "#load from model:\n",
    "\n",
    "H_model = lgbm.Booster(model_file='lgm_reg_0719_h.txt')"
   ]
  },
  {
   "cell_type": "code",
   "execution_count": 396,
   "id": "d2c9c559",
   "metadata": {},
   "outputs": [],
   "source": [
    "y_eval_H = H_model.predict(eval[num_fea+cat_fea],alpha=0.8) #Create predictions on test set\n",
    " "
   ]
  },
  {
   "cell_type": "code",
   "execution_count": 397,
   "id": "aaa02634",
   "metadata": {},
   "outputs": [],
   "source": [
    "eval['y_eval_H'] = y_eval_H"
   ]
  },
  {
   "cell_type": "code",
   "execution_count": null,
   "id": "a2c76790",
   "metadata": {},
   "outputs": [],
   "source": []
  },
  {
   "cell_type": "code",
   "execution_count": 398,
   "id": "a3bdbebb",
   "metadata": {},
   "outputs": [],
   "source": [
    "\n",
    "V_model = lgbm.Booster(model_file='lgm_reg_0719_V_retrain.txt')\n",
    " "
   ]
  },
  {
   "cell_type": "code",
   "execution_count": 399,
   "id": "03fe6fb8",
   "metadata": {},
   "outputs": [],
   "source": [
    "y_eval_V=V_model.predict(eval[num_fea+cat_fea],alpha=0.8) #Create predictions on test set\n",
    " "
   ]
  },
  {
   "cell_type": "code",
   "execution_count": 400,
   "id": "54a50c14",
   "metadata": {},
   "outputs": [],
   "source": [
    "eval['y_eval_V'] = y_eval_V"
   ]
  },
  {
   "cell_type": "code",
   "execution_count": null,
   "id": "0bcc79bb",
   "metadata": {},
   "outputs": [],
   "source": []
  },
  {
   "cell_type": "code",
   "execution_count": 401,
   "id": "ea50e8e2",
   "metadata": {},
   "outputs": [],
   "source": [
    "eval['y_eval_V']=eval['y_eval_V'].apply(np.round)\n",
    "eval['y_eval_H']=eval['y_eval_H'].apply(np.round)"
   ]
  },
  {
   "cell_type": "code",
   "execution_count": 402,
   "id": "cf9fa33b",
   "metadata": {},
   "outputs": [
    {
     "data": {
      "text/html": [
       "<div>\n",
       "<style scoped>\n",
       "    .dataframe tbody tr th:only-of-type {\n",
       "        vertical-align: middle;\n",
       "    }\n",
       "\n",
       "    .dataframe tbody tr th {\n",
       "        vertical-align: top;\n",
       "    }\n",
       "\n",
       "    .dataframe thead th {\n",
       "        text-align: right;\n",
       "    }\n",
       "</style>\n",
       "<table border=\"1\" class=\"dataframe\">\n",
       "  <thead>\n",
       "    <tr style=\"text-align: right;\">\n",
       "      <th></th>\n",
       "      <th>provider</th>\n",
       "      <th>provider_status</th>\n",
       "      <th>provider_tracking_code</th>\n",
       "      <th>shipper_id</th>\n",
       "      <th>origin_name</th>\n",
       "      <th>maergo_internal_status</th>\n",
       "      <th>maergo_external_status</th>\n",
       "      <th>maergo_tracking_code</th>\n",
       "      <th>maergo_message</th>\n",
       "      <th>event_date_time_utc</th>\n",
       "      <th>...</th>\n",
       "      <th>res_v</th>\n",
       "      <th>res_h</th>\n",
       "      <th>pracel_weekday</th>\n",
       "      <th>weekday_norm</th>\n",
       "      <th>cos_weekday</th>\n",
       "      <th>sin_weekday</th>\n",
       "      <th>origin_zip</th>\n",
       "      <th>des_tz</th>\n",
       "      <th>distance_percentage</th>\n",
       "      <th>res_v_y</th>\n",
       "    </tr>\n",
       "  </thead>\n",
       "  <tbody>\n",
       "    <tr>\n",
       "      <th>0</th>\n",
       "      <td>OLX_PLD</td>\n",
       "      <td>Label Created</td>\n",
       "      <td>1LSCYJR001XVOOQ</td>\n",
       "      <td>102</td>\n",
       "      <td>mnml</td>\n",
       "      <td>Label Created</td>\n",
       "      <td>Label Created</td>\n",
       "      <td>XLX0360017C9K8F15</td>\n",
       "      <td>Label has been created</td>\n",
       "      <td>2023-06-14 17:17:46.344000</td>\n",
       "      <td>...</td>\n",
       "      <td>1</td>\n",
       "      <td>1</td>\n",
       "      <td>2</td>\n",
       "      <td>2.094395</td>\n",
       "      <td>-0.5</td>\n",
       "      <td>8.660254e-01</td>\n",
       "      <td>91710.0</td>\n",
       "      <td>America/New_York</td>\n",
       "      <td>1.00000</td>\n",
       "      <td>1.0</td>\n",
       "    </tr>\n",
       "    <tr>\n",
       "      <th>1</th>\n",
       "      <td>LASERSHIP</td>\n",
       "      <td>DLVD</td>\n",
       "      <td>1LSCYJR001V2YT2</td>\n",
       "      <td>102</td>\n",
       "      <td>That's So Fetch</td>\n",
       "      <td>Delivered</td>\n",
       "      <td>Delivered</td>\n",
       "      <td>XLX0360016X9F8HFS</td>\n",
       "      <td>Your package has been delivered</td>\n",
       "      <td>2023-06-01 21:27:24.000000</td>\n",
       "      <td>...</td>\n",
       "      <td>2</td>\n",
       "      <td>2</td>\n",
       "      <td>3</td>\n",
       "      <td>3.141593</td>\n",
       "      <td>-1.0</td>\n",
       "      <td>1.224647e-16</td>\n",
       "      <td>91710.0</td>\n",
       "      <td>America/New_York</td>\n",
       "      <td>0.00256</td>\n",
       "      <td>2.0</td>\n",
       "    </tr>\n",
       "    <tr>\n",
       "      <th>2</th>\n",
       "      <td>LASERSHIP</td>\n",
       "      <td>ARRD</td>\n",
       "      <td>1LSCYJR001V2YT2</td>\n",
       "      <td>102</td>\n",
       "      <td>That's So Fetch</td>\n",
       "      <td>In-Transit: Processing at Facility</td>\n",
       "      <td>In-Transit</td>\n",
       "      <td>XLX0360016X9F8HFS</td>\n",
       "      <td>Package is processing at facility</td>\n",
       "      <td>2023-06-01 12:29:15.000000</td>\n",
       "      <td>...</td>\n",
       "      <td>2</td>\n",
       "      <td>2</td>\n",
       "      <td>3</td>\n",
       "      <td>3.141593</td>\n",
       "      <td>-1.0</td>\n",
       "      <td>1.224647e-16</td>\n",
       "      <td>91710.0</td>\n",
       "      <td>America/New_York</td>\n",
       "      <td>0.00256</td>\n",
       "      <td>2.0</td>\n",
       "    </tr>\n",
       "    <tr>\n",
       "      <th>3</th>\n",
       "      <td>LASERSHIP</td>\n",
       "      <td>LOAD</td>\n",
       "      <td>1LSCYJR001V2YT2</td>\n",
       "      <td>102</td>\n",
       "      <td>That's So Fetch</td>\n",
       "      <td>In-Transit: Departed Facility</td>\n",
       "      <td>In-Transit</td>\n",
       "      <td>XLX0360016X9F8HFS</td>\n",
       "      <td>Package has departed facility</td>\n",
       "      <td>2023-06-01 14:40:31.000000</td>\n",
       "      <td>...</td>\n",
       "      <td>2</td>\n",
       "      <td>2</td>\n",
       "      <td>3</td>\n",
       "      <td>3.141593</td>\n",
       "      <td>-1.0</td>\n",
       "      <td>1.224647e-16</td>\n",
       "      <td>91710.0</td>\n",
       "      <td>America/New_York</td>\n",
       "      <td>0.00256</td>\n",
       "      <td>2.0</td>\n",
       "    </tr>\n",
       "    <tr>\n",
       "      <th>4</th>\n",
       "      <td>LASERSHIP</td>\n",
       "      <td>OFDL</td>\n",
       "      <td>1LSCYJR001V2YT2</td>\n",
       "      <td>102</td>\n",
       "      <td>That's So Fetch</td>\n",
       "      <td>Out for Delivery</td>\n",
       "      <td>Out for Delivery</td>\n",
       "      <td>XLX0360016X9F8HFS</td>\n",
       "      <td>Out for delivery</td>\n",
       "      <td>2023-06-01 14:40:40.000000</td>\n",
       "      <td>...</td>\n",
       "      <td>2</td>\n",
       "      <td>2</td>\n",
       "      <td>3</td>\n",
       "      <td>3.141593</td>\n",
       "      <td>-1.0</td>\n",
       "      <td>1.224647e-16</td>\n",
       "      <td>91710.0</td>\n",
       "      <td>America/New_York</td>\n",
       "      <td>0.00256</td>\n",
       "      <td>2.0</td>\n",
       "    </tr>\n",
       "  </tbody>\n",
       "</table>\n",
       "<p>5 rows × 65 columns</p>\n",
       "</div>"
      ],
      "text/plain": [
       "    provider provider_status provider_tracking_code shipper_id  \\\n",
       "0    OLX_PLD   Label Created        1LSCYJR001XVOOQ        102   \n",
       "1  LASERSHIP            DLVD        1LSCYJR001V2YT2        102   \n",
       "2  LASERSHIP            ARRD        1LSCYJR001V2YT2        102   \n",
       "3  LASERSHIP            LOAD        1LSCYJR001V2YT2        102   \n",
       "4  LASERSHIP            OFDL        1LSCYJR001V2YT2        102   \n",
       "\n",
       "       origin_name              maergo_internal_status maergo_external_status  \\\n",
       "0             mnml                       Label Created          Label Created   \n",
       "1  That's So Fetch                           Delivered              Delivered   \n",
       "2  That's So Fetch  In-Transit: Processing at Facility             In-Transit   \n",
       "3  That's So Fetch       In-Transit: Departed Facility             In-Transit   \n",
       "4  That's So Fetch                    Out for Delivery       Out for Delivery   \n",
       "\n",
       "  maergo_tracking_code                     maergo_message  \\\n",
       "0    XLX0360017C9K8F15             Label has been created   \n",
       "1    XLX0360016X9F8HFS    Your package has been delivered   \n",
       "2    XLX0360016X9F8HFS  Package is processing at facility   \n",
       "3    XLX0360016X9F8HFS      Package has departed facility   \n",
       "4    XLX0360016X9F8HFS                   Out for delivery   \n",
       "\n",
       "          event_date_time_utc  ... res_v res_h pracel_weekday weekday_norm  \\\n",
       "0  2023-06-14 17:17:46.344000  ...     1     1              2     2.094395   \n",
       "1  2023-06-01 21:27:24.000000  ...     2     2              3     3.141593   \n",
       "2  2023-06-01 12:29:15.000000  ...     2     2              3     3.141593   \n",
       "3  2023-06-01 14:40:31.000000  ...     2     2              3     3.141593   \n",
       "4  2023-06-01 14:40:40.000000  ...     2     2              3     3.141593   \n",
       "\n",
       "  cos_weekday   sin_weekday  origin_zip            des_tz distance_percentage  \\\n",
       "0        -0.5  8.660254e-01     91710.0  America/New_York             1.00000   \n",
       "1        -1.0  1.224647e-16     91710.0  America/New_York             0.00256   \n",
       "2        -1.0  1.224647e-16     91710.0  America/New_York             0.00256   \n",
       "3        -1.0  1.224647e-16     91710.0  America/New_York             0.00256   \n",
       "4        -1.0  1.224647e-16     91710.0  America/New_York             0.00256   \n",
       "\n",
       "  res_v_y  \n",
       "0     1.0  \n",
       "1     2.0  \n",
       "2     2.0  \n",
       "3     2.0  \n",
       "4     2.0  \n",
       "\n",
       "[5 rows x 65 columns]"
      ]
     },
     "execution_count": 402,
     "metadata": {},
     "output_type": "execute_result"
    }
   ],
   "source": [
    "eval.head()"
   ]
  },
  {
   "cell_type": "code",
   "execution_count": 403,
   "id": "e2e33b76",
   "metadata": {},
   "outputs": [],
   "source": [
    "# test model on training set to see if metrics is right"
   ]
  },
  {
   "cell_type": "code",
   "execution_count": 404,
   "id": "0b571655",
   "metadata": {},
   "outputs": [],
   "source": [
    "df=pd.read_csv('marego_preprocessed_0719.csv')\n",
    " "
   ]
  },
  {
   "cell_type": "code",
   "execution_count": 405,
   "id": "0cfd55c9",
   "metadata": {},
   "outputs": [],
   "source": [
    "df=df[df.pracel_month!=12]\n",
    "df=df[df.maergo_external_status!='Delivered']\n",
    "df=df[df.maergo_external_status!='Out for Delivery']\n",
    "df=df[df.maergo_external_status!='Exception']"
   ]
  },
  {
   "cell_type": "code",
   "execution_count": 406,
   "id": "0baa77a2",
   "metadata": {},
   "outputs": [],
   "source": [
    "#modify those columns, feature names, model\n",
    "\n",
    "\n",
    "df=df[df['delivery_period']<8]\n",
    "df=df[df['delivery_period']>0]\n",
    "\n",
    "df['provider']=df['provider'].astype(\"category\")\n",
    "\n",
    " \n",
    "df['provider_status']=df['provider_status'].astype(\"category\")\n",
    "df['origin_name']=df['origin_name'].astype(\"category\")\n",
    "df['maergo_external_status']=df['maergo_external_status'].astype(\"category\")\n",
    " \n",
    "df['maergo_message']=df['maergo_message'].astype(\"category\")\n",
    " \n",
    "df['event_time_zone']=df['event_time_zone'].astype(\"category\")\n",
    "df['event_zipcode']=df['event_zipcode'].astype(\"category\")\n",
    "df['destination_city']=df['destination_city'].astype(\"category\")\n",
    "df['destination_state']=df['destination_state'].astype(\"category\")\n",
    "df['destination_zipcode']=df['destination_zipcode'].astype(\"category\")\n",
    "df['destination_country']=df['destination_country'].astype(\"category\")\n",
    "df['sort_code']=df['sort_code'].astype(\"category\")\n",
    "\n",
    "df['provider']=df['provider'].astype(\"category\")\n",
    "df['maergo_internal_status']=df['maergo_internal_status'].astype(\"category\")\n",
    "df['origin_zip']=df['origin_zip'].astype(\"category\")\n",
    "df['shipper_id']=df['shipper_id'].astype(\"category\")\n",
    "df['des_tz']=df['des_tz'].astype(\"category\")\n",
    "\n",
    " \n",
    " \n",
    " \n",
    " \n",
    " \n",
    "\n",
    "\n"
   ]
  },
  {
   "cell_type": "code",
   "execution_count": 407,
   "id": "73d7f73b",
   "metadata": {},
   "outputs": [
    {
     "data": {
      "text/plain": [
       "2682475"
      ]
     },
     "execution_count": 407,
     "metadata": {},
     "output_type": "execute_result"
    }
   ],
   "source": [
    "len(df)"
   ]
  },
  {
   "cell_type": "code",
   "execution_count": 408,
   "id": "b6de35e4",
   "metadata": {},
   "outputs": [],
   "source": [
    "df['distance_percentage']=df['distance_des']/(df['distance_des']+df['distance_ori'])"
   ]
  },
  {
   "cell_type": "code",
   "execution_count": 409,
   "id": "023caaa7",
   "metadata": {},
   "outputs": [],
   "source": [
    "predV=V_model.predict(df[num_fea+cat_fea],alpha=0.8) "
   ]
  },
  {
   "cell_type": "code",
   "execution_count": 410,
   "id": "50f1c5f8",
   "metadata": {},
   "outputs": [],
   "source": [
    "df['yv']=predV\n",
    "df['yv']=df['yv'].apply(np.round)\n",
    "df['resv']=df['yv']-df['delivery_period']"
   ]
  },
  {
   "cell_type": "code",
   "execution_count": 411,
   "id": "dc67d05e",
   "metadata": {},
   "outputs": [],
   "source": [
    "def acc_res(res):\n",
    "    lis=[]\n",
    "    for i in res:\n",
    "        if i<=1 and i>=0:\n",
    "            lis.append(1)\n",
    "        else:\n",
    "            lis.append(0)\n",
    "    return sum(lis)/len(lis)"
   ]
  },
  {
   "cell_type": "code",
   "execution_count": 412,
   "id": "5b759a58",
   "metadata": {},
   "outputs": [
    {
     "data": {
      "text/plain": [
       "0.8650559651068509"
      ]
     },
     "execution_count": 412,
     "metadata": {},
     "output_type": "execute_result"
    }
   ],
   "source": [
    "acc_res(df['resv'])"
   ]
  },
  {
   "cell_type": "code",
   "execution_count": 413,
   "id": "b13aeea2",
   "metadata": {},
   "outputs": [],
   "source": [
    "predH=H_model.predict(df[num_fea+cat_fea],alpha=0.8) "
   ]
  },
  {
   "cell_type": "code",
   "execution_count": 414,
   "id": "1cb47530",
   "metadata": {},
   "outputs": [],
   "source": [
    "df['yh']=predH\n",
    "df['yh']=df['yh'].apply(np.round)\n",
    "df['resh']=df['yh']-df['delivery_period']"
   ]
  },
  {
   "cell_type": "code",
   "execution_count": 415,
   "id": "3f5c3961",
   "metadata": {},
   "outputs": [
    {
     "data": {
      "text/plain": [
       "0.8371336172750911"
      ]
     },
     "execution_count": 415,
     "metadata": {},
     "output_type": "execute_result"
    }
   ],
   "source": [
    "acc_res(df['resh'])"
   ]
  },
  {
   "cell_type": "code",
   "execution_count": 416,
   "id": "7189eecb",
   "metadata": {},
   "outputs": [],
   "source": [
    "from datetime import timedelta\n",
    " "
   ]
  },
  {
   "cell_type": "code",
   "execution_count": 417,
   "id": "93d947cf",
   "metadata": {},
   "outputs": [],
   "source": [
    "#eval['format_event_date_time_local'][1] + timedelta(days=1)"
   ]
  },
  {
   "cell_type": "code",
   "execution_count": null,
   "id": "005c80ee",
   "metadata": {},
   "outputs": [],
   "source": []
  },
  {
   "cell_type": "code",
   "execution_count": 418,
   "id": "6dd3dcf2",
   "metadata": {},
   "outputs": [],
   "source": [
    "def get_delivery_day(event_day,period):    \n",
    "    return event_day + timedelta(days=period)\n",
    " "
   ]
  },
  {
   "cell_type": "code",
   "execution_count": 419,
   "id": "28006600",
   "metadata": {},
   "outputs": [],
   "source": [
    "eval['estimated_delivery_time_local_H'] = eval.apply(lambda x: get_delivery_day(x.format_event_date_time_local, x.y_eval_H ) ,axis=1)"
   ]
  },
  {
   "cell_type": "code",
   "execution_count": 420,
   "id": "4e2411a2",
   "metadata": {},
   "outputs": [
    {
     "data": {
      "text/plain": [
       "y_eval_H\n",
       "0.0        19\n",
       "1.0     97434\n",
       "2.0    232090\n",
       "3.0    386533\n",
       "4.0    272469\n",
       "5.0    116547\n",
       "6.0     27289\n",
       "7.0      3852\n",
       "8.0       217\n",
       "9.0        10\n",
       "dtype: int64"
      ]
     },
     "execution_count": 420,
     "metadata": {},
     "output_type": "execute_result"
    }
   ],
   "source": [
    "eval.groupby('y_eval_H').apply(len)"
   ]
  },
  {
   "cell_type": "code",
   "execution_count": 421,
   "id": "57d6c251",
   "metadata": {},
   "outputs": [
    {
     "data": {
      "text/plain": [
       "y_eval_V\n",
       "1.0    178836\n",
       "2.0    580328\n",
       "3.0    256766\n",
       "4.0    104969\n",
       "5.0     15242\n",
       "6.0       319\n",
       "dtype: int64"
      ]
     },
     "execution_count": 421,
     "metadata": {},
     "output_type": "execute_result"
    }
   ],
   "source": [
    "eval.groupby('y_eval_V').apply(len)"
   ]
  },
  {
   "cell_type": "code",
   "execution_count": 422,
   "id": "d11c66e8",
   "metadata": {},
   "outputs": [
    {
     "data": {
      "text/plain": [
       "provider                           0\n",
       "provider_status                    0\n",
       "provider_tracking_code             0\n",
       "shipper_id                         0\n",
       "origin_name                        0\n",
       "                                  ..\n",
       "origin_zip                         0\n",
       "des_tz                             0\n",
       "distance_percentage                0\n",
       "res_v_y                            0\n",
       "estimated_delivery_time_local_H    0\n",
       "Length: 66, dtype: int64"
      ]
     },
     "execution_count": 422,
     "metadata": {},
     "output_type": "execute_result"
    }
   ],
   "source": [
    "df1=eval\n",
    "df1.isnull().sum()"
   ]
  },
  {
   "cell_type": "code",
   "execution_count": 423,
   "id": "a2e7a1e2",
   "metadata": {},
   "outputs": [],
   "source": [
    "eval['estimated_delivery_time_local_V']   = eval.apply(lambda x: get_delivery_day(x.format_event_date_time_local, x.y_eval_V) ,axis=1)"
   ]
  },
  {
   "cell_type": "code",
   "execution_count": 424,
   "id": "b094b38c",
   "metadata": {},
   "outputs": [
    {
     "data": {
      "text/html": [
       "<div>\n",
       "<style scoped>\n",
       "    .dataframe tbody tr th:only-of-type {\n",
       "        vertical-align: middle;\n",
       "    }\n",
       "\n",
       "    .dataframe tbody tr th {\n",
       "        vertical-align: top;\n",
       "    }\n",
       "\n",
       "    .dataframe thead th {\n",
       "        text-align: right;\n",
       "    }\n",
       "</style>\n",
       "<table border=\"1\" class=\"dataframe\">\n",
       "  <thead>\n",
       "    <tr style=\"text-align: right;\">\n",
       "      <th></th>\n",
       "      <th>format_event_date_time_local</th>\n",
       "      <th>y_eval_H</th>\n",
       "      <th>y_eval_V</th>\n",
       "      <th>estimated_delivery_date_H</th>\n",
       "      <th>estimated_delivery_time_local_V</th>\n",
       "    </tr>\n",
       "  </thead>\n",
       "  <tbody>\n",
       "    <tr>\n",
       "      <th>0</th>\n",
       "      <td>2023-06-14 10:17:46</td>\n",
       "      <td>4.0</td>\n",
       "      <td>3.0</td>\n",
       "      <td>2023-06-17 10:17:46</td>\n",
       "      <td>2023-06-17 10:17:46</td>\n",
       "    </tr>\n",
       "    <tr>\n",
       "      <th>1</th>\n",
       "      <td>2023-06-01 17:27:24</td>\n",
       "      <td>3.0</td>\n",
       "      <td>2.0</td>\n",
       "      <td>2023-06-03 17:27:24</td>\n",
       "      <td>2023-06-03 17:27:24</td>\n",
       "    </tr>\n",
       "    <tr>\n",
       "      <th>2</th>\n",
       "      <td>2023-06-01 08:29:15</td>\n",
       "      <td>2.0</td>\n",
       "      <td>2.0</td>\n",
       "      <td>2023-06-03 08:29:15</td>\n",
       "      <td>2023-06-03 08:29:15</td>\n",
       "    </tr>\n",
       "    <tr>\n",
       "      <th>3</th>\n",
       "      <td>2023-06-01 10:40:31</td>\n",
       "      <td>2.0</td>\n",
       "      <td>2.0</td>\n",
       "      <td>2023-06-03 10:40:31</td>\n",
       "      <td>2023-06-03 10:40:31</td>\n",
       "    </tr>\n",
       "    <tr>\n",
       "      <th>4</th>\n",
       "      <td>2023-06-01 10:40:40</td>\n",
       "      <td>3.0</td>\n",
       "      <td>2.0</td>\n",
       "      <td>2023-06-03 10:40:40</td>\n",
       "      <td>2023-06-03 10:40:40</td>\n",
       "    </tr>\n",
       "    <tr>\n",
       "      <th>5</th>\n",
       "      <td>2023-05-31 20:36:35</td>\n",
       "      <td>1.0</td>\n",
       "      <td>1.0</td>\n",
       "      <td>2023-06-01 20:36:35</td>\n",
       "      <td>2023-06-01 20:36:35</td>\n",
       "    </tr>\n",
       "    <tr>\n",
       "      <th>6</th>\n",
       "      <td>2023-06-12 19:19:35</td>\n",
       "      <td>4.0</td>\n",
       "      <td>3.0</td>\n",
       "      <td>2023-06-15 19:19:35</td>\n",
       "      <td>2023-06-15 19:19:35</td>\n",
       "    </tr>\n",
       "    <tr>\n",
       "      <th>7</th>\n",
       "      <td>2023-06-12 20:37:18</td>\n",
       "      <td>4.0</td>\n",
       "      <td>3.0</td>\n",
       "      <td>2023-06-15 20:37:18</td>\n",
       "      <td>2023-06-15 20:37:18</td>\n",
       "    </tr>\n",
       "    <tr>\n",
       "      <th>8</th>\n",
       "      <td>2023-05-31 20:32:15</td>\n",
       "      <td>4.0</td>\n",
       "      <td>3.0</td>\n",
       "      <td>2023-06-02 20:32:15</td>\n",
       "      <td>2023-06-03 20:32:15</td>\n",
       "    </tr>\n",
       "    <tr>\n",
       "      <th>9</th>\n",
       "      <td>2023-05-31 19:00:51</td>\n",
       "      <td>4.0</td>\n",
       "      <td>3.0</td>\n",
       "      <td>2023-06-02 19:00:51</td>\n",
       "      <td>2023-06-03 19:00:51</td>\n",
       "    </tr>\n",
       "  </tbody>\n",
       "</table>\n",
       "</div>"
      ],
      "text/plain": [
       "  format_event_date_time_local  y_eval_H  y_eval_V estimated_delivery_date_H  \\\n",
       "0          2023-06-14 10:17:46       4.0       3.0       2023-06-17 10:17:46   \n",
       "1          2023-06-01 17:27:24       3.0       2.0       2023-06-03 17:27:24   \n",
       "2          2023-06-01 08:29:15       2.0       2.0       2023-06-03 08:29:15   \n",
       "3          2023-06-01 10:40:31       2.0       2.0       2023-06-03 10:40:31   \n",
       "4          2023-06-01 10:40:40       3.0       2.0       2023-06-03 10:40:40   \n",
       "5          2023-05-31 20:36:35       1.0       1.0       2023-06-01 20:36:35   \n",
       "6          2023-06-12 19:19:35       4.0       3.0       2023-06-15 19:19:35   \n",
       "7          2023-06-12 20:37:18       4.0       3.0       2023-06-15 20:37:18   \n",
       "8          2023-05-31 20:32:15       4.0       3.0       2023-06-02 20:32:15   \n",
       "9          2023-05-31 19:00:51       4.0       3.0       2023-06-02 19:00:51   \n",
       "\n",
       "  estimated_delivery_time_local_V  \n",
       "0             2023-06-17 10:17:46  \n",
       "1             2023-06-03 17:27:24  \n",
       "2             2023-06-03 08:29:15  \n",
       "3             2023-06-03 10:40:31  \n",
       "4             2023-06-03 10:40:40  \n",
       "5             2023-06-01 20:36:35  \n",
       "6             2023-06-15 19:19:35  \n",
       "7             2023-06-15 20:37:18  \n",
       "8             2023-06-03 20:32:15  \n",
       "9             2023-06-03 19:00:51  "
      ]
     },
     "execution_count": 424,
     "metadata": {},
     "output_type": "execute_result"
    }
   ],
   "source": [
    "eval[['format_event_date_time_local','y_eval_H','y_eval_V','estimated_delivery_date_H','estimated_delivery_time_local_V']].head(10)"
   ]
  },
  {
   "cell_type": "code",
   "execution_count": null,
   "id": "df5396c3",
   "metadata": {},
   "outputs": [],
   "source": []
  },
  {
   "cell_type": "code",
   "execution_count": 425,
   "id": "41330f85",
   "metadata": {},
   "outputs": [],
   "source": [
    "#eval_res=eval[[\"event_id\",'estimated_delivery_time_local_H','estimated_delivery_time_local_V']]"
   ]
  },
  {
   "cell_type": "code",
   "execution_count": 426,
   "id": "a936377e",
   "metadata": {},
   "outputs": [],
   "source": [
    "eval = eval.rename(columns={ 'estimated_delivery_time_local_H':'estimated_delivery_date_H',  'estimated_delivery_time_local_V':'estimated_delivery_date_V'})"
   ]
  },
  {
   "cell_type": "code",
   "execution_count": 427,
   "id": "a7bb852c",
   "metadata": {},
   "outputs": [],
   "source": [
    "#eval_res = eval_res.rename(columns={ 'estimated_delivery_date1_H':'estimated_delivery_date_H','estimated_delivery_date_H':'estimated_delivery_date_V'})"
   ]
  },
  {
   "cell_type": "code",
   "execution_count": 428,
   "id": "498a05f9",
   "metadata": {},
   "outputs": [],
   "source": [
    "eval_res=eval_res[[\"event_id\",'estimated_delivery_date_H','estimated_delivery_date_V']]"
   ]
  },
  {
   "cell_type": "code",
   "execution_count": 429,
   "id": "c234a936",
   "metadata": {},
   "outputs": [],
   "source": [
    "eval = eval.loc[:,~eval.columns.duplicated()].copy()"
   ]
  },
  {
   "cell_type": "code",
   "execution_count": 430,
   "id": "14ab93c4",
   "metadata": {},
   "outputs": [
    {
     "data": {
      "text/plain": [
       "Index(['provider', 'provider_status', 'provider_tracking_code', 'shipper_id',\n",
       "       'origin_name', 'maergo_internal_status', 'maergo_external_status',\n",
       "       'maergo_tracking_code', 'maergo_message', 'event_date_time_utc',\n",
       "       'event_date_time_local', 'event_time_zone', 'label_created_date_time',\n",
       "       'event_city', 'event_state', 'event_zipcode', 'event_lat', 'event_lng',\n",
       "       'destination_city', 'destination_state', 'destination_zipcode',\n",
       "       'destination_country', 'hidden', 'distribution_center_id', 'client_id',\n",
       "       'event_id', 'delivery_event_id', 'sort_center', 'sort_code',\n",
       "       'origin_lon', 'origin_lat', 'distance_ori', 'des_lon', 'des_lat',\n",
       "       'distance_des', 'format_event_date_time_local', 'pracel_month',\n",
       "       'month_norm', 'cos_month', 'sin_month', 'pracel_week', 'week_norm',\n",
       "       'cos_week', 'sin_week', 'y_eval_H', 'y_eval_V',\n",
       "       'estimated_delivery_time_local', 'estimated_delivery_date_H',\n",
       "       'estimated_delivery_date1_H', 'estimated_delivery_date_V', 'y_true',\n",
       "       'date_true', 'date_true_format', 'timezone', 'format_date_true_local',\n",
       "       'res_v', 'res_h', 'pracel_weekday', 'weekday_norm', 'cos_weekday',\n",
       "       'sin_weekday', 'origin_zip', 'des_tz', 'distance_percentage',\n",
       "       'res_v_y'],\n",
       "      dtype='object')"
      ]
     },
     "execution_count": 430,
     "metadata": {},
     "output_type": "execute_result"
    }
   ],
   "source": [
    "eval.columns"
   ]
  },
  {
   "cell_type": "code",
   "execution_count": 431,
   "id": "9d253eff",
   "metadata": {},
   "outputs": [
    {
     "data": {
      "text/html": [
       "<div>\n",
       "<style scoped>\n",
       "    .dataframe tbody tr th:only-of-type {\n",
       "        vertical-align: middle;\n",
       "    }\n",
       "\n",
       "    .dataframe tbody tr th {\n",
       "        vertical-align: top;\n",
       "    }\n",
       "\n",
       "    .dataframe thead th {\n",
       "        text-align: right;\n",
       "    }\n",
       "</style>\n",
       "<table border=\"1\" class=\"dataframe\">\n",
       "  <thead>\n",
       "    <tr style=\"text-align: right;\">\n",
       "      <th></th>\n",
       "      <th>event_id</th>\n",
       "      <th>estimated_delivery_date_H</th>\n",
       "      <th>estimated_delivery_date_V</th>\n",
       "    </tr>\n",
       "  </thead>\n",
       "  <tbody>\n",
       "    <tr>\n",
       "      <th>0</th>\n",
       "      <td>9a7eb8c8e80bcce1e6156f508deeb584</td>\n",
       "      <td>2023-06-17 10:17:46</td>\n",
       "      <td>2023-06-17 10:17:46</td>\n",
       "    </tr>\n",
       "    <tr>\n",
       "      <th>1</th>\n",
       "      <td>98e10437c2d5e7fd9486bf40e7247f8e</td>\n",
       "      <td>2023-06-03 17:27:24</td>\n",
       "      <td>2023-06-03 17:27:24</td>\n",
       "    </tr>\n",
       "    <tr>\n",
       "      <th>2</th>\n",
       "      <td>7fcabb105f6e458b75d98b1b735382f5</td>\n",
       "      <td>2023-06-03 08:29:15</td>\n",
       "      <td>2023-06-03 08:29:15</td>\n",
       "    </tr>\n",
       "    <tr>\n",
       "      <th>3</th>\n",
       "      <td>85e3343b00aeccef2490f7a72ed0f725</td>\n",
       "      <td>2023-06-03 10:40:31</td>\n",
       "      <td>2023-06-03 10:40:31</td>\n",
       "    </tr>\n",
       "    <tr>\n",
       "      <th>4</th>\n",
       "      <td>98450fc32b0c3ad4778dc7a5e60a7b42</td>\n",
       "      <td>2023-06-03 10:40:40</td>\n",
       "      <td>2023-06-03 10:40:40</td>\n",
       "    </tr>\n",
       "    <tr>\n",
       "      <th>...</th>\n",
       "      <td>...</td>\n",
       "      <td>...</td>\n",
       "      <td>...</td>\n",
       "    </tr>\n",
       "    <tr>\n",
       "      <th>95</th>\n",
       "      <td>dd987f5b63b7ad5abb43b16ade32ea79</td>\n",
       "      <td>2023-06-12 12:23:39</td>\n",
       "      <td>2023-06-11 12:23:39</td>\n",
       "    </tr>\n",
       "    <tr>\n",
       "      <th>96</th>\n",
       "      <td>e6fb495b0b00525074d3480fd087befe</td>\n",
       "      <td>2023-06-12 11:28:08</td>\n",
       "      <td>2023-06-11 11:28:08</td>\n",
       "    </tr>\n",
       "    <tr>\n",
       "      <th>97</th>\n",
       "      <td>82dc4b45a0f753d22f1a5d9387277495</td>\n",
       "      <td>2023-06-12 08:25:43</td>\n",
       "      <td>2023-06-11 08:25:43</td>\n",
       "    </tr>\n",
       "    <tr>\n",
       "      <th>98</th>\n",
       "      <td>f185f1d8c780b0fc15c375c71cb17ab0</td>\n",
       "      <td>2023-06-10 18:25:04</td>\n",
       "      <td>2023-06-09 18:25:04</td>\n",
       "    </tr>\n",
       "    <tr>\n",
       "      <th>99</th>\n",
       "      <td>7378c018d36fdc6aa932f753b8161287</td>\n",
       "      <td>2023-06-10 19:36:34</td>\n",
       "      <td>2023-06-09 19:36:34</td>\n",
       "    </tr>\n",
       "  </tbody>\n",
       "</table>\n",
       "<p>100 rows × 3 columns</p>\n",
       "</div>"
      ],
      "text/plain": [
       "                            event_id estimated_delivery_date_H  \\\n",
       "0   9a7eb8c8e80bcce1e6156f508deeb584       2023-06-17 10:17:46   \n",
       "1   98e10437c2d5e7fd9486bf40e7247f8e       2023-06-03 17:27:24   \n",
       "2   7fcabb105f6e458b75d98b1b735382f5       2023-06-03 08:29:15   \n",
       "3   85e3343b00aeccef2490f7a72ed0f725       2023-06-03 10:40:31   \n",
       "4   98450fc32b0c3ad4778dc7a5e60a7b42       2023-06-03 10:40:40   \n",
       "..                               ...                       ...   \n",
       "95  dd987f5b63b7ad5abb43b16ade32ea79       2023-06-12 12:23:39   \n",
       "96  e6fb495b0b00525074d3480fd087befe       2023-06-12 11:28:08   \n",
       "97  82dc4b45a0f753d22f1a5d9387277495       2023-06-12 08:25:43   \n",
       "98  f185f1d8c780b0fc15c375c71cb17ab0       2023-06-10 18:25:04   \n",
       "99  7378c018d36fdc6aa932f753b8161287       2023-06-10 19:36:34   \n",
       "\n",
       "   estimated_delivery_date_V  \n",
       "0        2023-06-17 10:17:46  \n",
       "1        2023-06-03 17:27:24  \n",
       "2        2023-06-03 08:29:15  \n",
       "3        2023-06-03 10:40:31  \n",
       "4        2023-06-03 10:40:40  \n",
       "..                       ...  \n",
       "95       2023-06-11 12:23:39  \n",
       "96       2023-06-11 11:28:08  \n",
       "97       2023-06-11 08:25:43  \n",
       "98       2023-06-09 18:25:04  \n",
       "99       2023-06-09 19:36:34  \n",
       "\n",
       "[100 rows x 3 columns]"
      ]
     },
     "execution_count": 431,
     "metadata": {},
     "output_type": "execute_result"
    }
   ],
   "source": [
    "eval_res.head(100)"
   ]
  },
  {
   "cell_type": "code",
   "execution_count": null,
   "id": "97714784",
   "metadata": {},
   "outputs": [],
   "source": []
  },
  {
   "cell_type": "code",
   "execution_count": 432,
   "id": "d46607fa",
   "metadata": {},
   "outputs": [],
   "source": [
    "eval.to_csv('marego_0717_eval_pred_V_H.csv')"
   ]
  },
  {
   "cell_type": "code",
   "execution_count": 433,
   "id": "23b1c41f",
   "metadata": {},
   "outputs": [],
   "source": [
    "eval_res.to_csv('marego_0717_eval_pred_result_V_H.csv')"
   ]
  },
  {
   "cell_type": "code",
   "execution_count": 434,
   "id": "9441beac-c2c9-4f5d-991a-158a214bdb34",
   "metadata": {},
   "outputs": [
    {
     "ename": "PermissionError",
     "evalue": "[Errno 13] Permission denied: 'marego_0717_eval_pred_H.csv'",
     "output_type": "error",
     "traceback": [
      "\u001b[1;31m---------------------------------------------------------------------------\u001b[0m",
      "\u001b[1;31mPermissionError\u001b[0m                           Traceback (most recent call last)",
      "Cell \u001b[1;32mIn[434], line 1\u001b[0m\n\u001b[1;32m----> 1\u001b[0m \u001b[43meval_res\u001b[49m\u001b[43m[\u001b[49m\u001b[43m[\u001b[49m\u001b[38;5;124;43m\"\u001b[39;49m\u001b[38;5;124;43mevent_id\u001b[39;49m\u001b[38;5;124;43m\"\u001b[39;49m\u001b[43m,\u001b[49m\u001b[38;5;124;43m'\u001b[39;49m\u001b[38;5;124;43mestimated_delivery_date_H\u001b[39;49m\u001b[38;5;124;43m'\u001b[39;49m\u001b[43m]\u001b[49m\u001b[43m]\u001b[49m\u001b[38;5;241;43m.\u001b[39;49m\u001b[43mto_csv\u001b[49m\u001b[43m(\u001b[49m\u001b[38;5;124;43m'\u001b[39;49m\u001b[38;5;124;43mmarego_0717_eval_pred_H.csv\u001b[39;49m\u001b[38;5;124;43m'\u001b[39;49m\u001b[43m)\u001b[49m\n",
      "File \u001b[1;32m~\\anaconda3\\lib\\site-packages\\pandas\\util\\_decorators.py:211\u001b[0m, in \u001b[0;36mdeprecate_kwarg.<locals>._deprecate_kwarg.<locals>.wrapper\u001b[1;34m(*args, **kwargs)\u001b[0m\n\u001b[0;32m    209\u001b[0m     \u001b[38;5;28;01melse\u001b[39;00m:\n\u001b[0;32m    210\u001b[0m         kwargs[new_arg_name] \u001b[38;5;241m=\u001b[39m new_arg_value\n\u001b[1;32m--> 211\u001b[0m \u001b[38;5;28;01mreturn\u001b[39;00m func(\u001b[38;5;241m*\u001b[39margs, \u001b[38;5;241m*\u001b[39m\u001b[38;5;241m*\u001b[39mkwargs)\n",
      "File \u001b[1;32m~\\anaconda3\\lib\\site-packages\\pandas\\core\\generic.py:3720\u001b[0m, in \u001b[0;36mNDFrame.to_csv\u001b[1;34m(self, path_or_buf, sep, na_rep, float_format, columns, header, index, index_label, mode, encoding, compression, quoting, quotechar, lineterminator, chunksize, date_format, doublequote, escapechar, decimal, errors, storage_options)\u001b[0m\n\u001b[0;32m   3709\u001b[0m df \u001b[38;5;241m=\u001b[39m \u001b[38;5;28mself\u001b[39m \u001b[38;5;28;01mif\u001b[39;00m \u001b[38;5;28misinstance\u001b[39m(\u001b[38;5;28mself\u001b[39m, ABCDataFrame) \u001b[38;5;28;01melse\u001b[39;00m \u001b[38;5;28mself\u001b[39m\u001b[38;5;241m.\u001b[39mto_frame()\n\u001b[0;32m   3711\u001b[0m formatter \u001b[38;5;241m=\u001b[39m DataFrameFormatter(\n\u001b[0;32m   3712\u001b[0m     frame\u001b[38;5;241m=\u001b[39mdf,\n\u001b[0;32m   3713\u001b[0m     header\u001b[38;5;241m=\u001b[39mheader,\n\u001b[1;32m   (...)\u001b[0m\n\u001b[0;32m   3717\u001b[0m     decimal\u001b[38;5;241m=\u001b[39mdecimal,\n\u001b[0;32m   3718\u001b[0m )\n\u001b[1;32m-> 3720\u001b[0m \u001b[38;5;28;01mreturn\u001b[39;00m \u001b[43mDataFrameRenderer\u001b[49m\u001b[43m(\u001b[49m\u001b[43mformatter\u001b[49m\u001b[43m)\u001b[49m\u001b[38;5;241;43m.\u001b[39;49m\u001b[43mto_csv\u001b[49m\u001b[43m(\u001b[49m\n\u001b[0;32m   3721\u001b[0m \u001b[43m    \u001b[49m\u001b[43mpath_or_buf\u001b[49m\u001b[43m,\u001b[49m\n\u001b[0;32m   3722\u001b[0m \u001b[43m    \u001b[49m\u001b[43mlineterminator\u001b[49m\u001b[38;5;241;43m=\u001b[39;49m\u001b[43mlineterminator\u001b[49m\u001b[43m,\u001b[49m\n\u001b[0;32m   3723\u001b[0m \u001b[43m    \u001b[49m\u001b[43msep\u001b[49m\u001b[38;5;241;43m=\u001b[39;49m\u001b[43msep\u001b[49m\u001b[43m,\u001b[49m\n\u001b[0;32m   3724\u001b[0m \u001b[43m    \u001b[49m\u001b[43mencoding\u001b[49m\u001b[38;5;241;43m=\u001b[39;49m\u001b[43mencoding\u001b[49m\u001b[43m,\u001b[49m\n\u001b[0;32m   3725\u001b[0m \u001b[43m    \u001b[49m\u001b[43merrors\u001b[49m\u001b[38;5;241;43m=\u001b[39;49m\u001b[43merrors\u001b[49m\u001b[43m,\u001b[49m\n\u001b[0;32m   3726\u001b[0m \u001b[43m    \u001b[49m\u001b[43mcompression\u001b[49m\u001b[38;5;241;43m=\u001b[39;49m\u001b[43mcompression\u001b[49m\u001b[43m,\u001b[49m\n\u001b[0;32m   3727\u001b[0m \u001b[43m    \u001b[49m\u001b[43mquoting\u001b[49m\u001b[38;5;241;43m=\u001b[39;49m\u001b[43mquoting\u001b[49m\u001b[43m,\u001b[49m\n\u001b[0;32m   3728\u001b[0m \u001b[43m    \u001b[49m\u001b[43mcolumns\u001b[49m\u001b[38;5;241;43m=\u001b[39;49m\u001b[43mcolumns\u001b[49m\u001b[43m,\u001b[49m\n\u001b[0;32m   3729\u001b[0m \u001b[43m    \u001b[49m\u001b[43mindex_label\u001b[49m\u001b[38;5;241;43m=\u001b[39;49m\u001b[43mindex_label\u001b[49m\u001b[43m,\u001b[49m\n\u001b[0;32m   3730\u001b[0m \u001b[43m    \u001b[49m\u001b[43mmode\u001b[49m\u001b[38;5;241;43m=\u001b[39;49m\u001b[43mmode\u001b[49m\u001b[43m,\u001b[49m\n\u001b[0;32m   3731\u001b[0m \u001b[43m    \u001b[49m\u001b[43mchunksize\u001b[49m\u001b[38;5;241;43m=\u001b[39;49m\u001b[43mchunksize\u001b[49m\u001b[43m,\u001b[49m\n\u001b[0;32m   3732\u001b[0m \u001b[43m    \u001b[49m\u001b[43mquotechar\u001b[49m\u001b[38;5;241;43m=\u001b[39;49m\u001b[43mquotechar\u001b[49m\u001b[43m,\u001b[49m\n\u001b[0;32m   3733\u001b[0m \u001b[43m    \u001b[49m\u001b[43mdate_format\u001b[49m\u001b[38;5;241;43m=\u001b[39;49m\u001b[43mdate_format\u001b[49m\u001b[43m,\u001b[49m\n\u001b[0;32m   3734\u001b[0m \u001b[43m    \u001b[49m\u001b[43mdoublequote\u001b[49m\u001b[38;5;241;43m=\u001b[39;49m\u001b[43mdoublequote\u001b[49m\u001b[43m,\u001b[49m\n\u001b[0;32m   3735\u001b[0m \u001b[43m    \u001b[49m\u001b[43mescapechar\u001b[49m\u001b[38;5;241;43m=\u001b[39;49m\u001b[43mescapechar\u001b[49m\u001b[43m,\u001b[49m\n\u001b[0;32m   3736\u001b[0m \u001b[43m    \u001b[49m\u001b[43mstorage_options\u001b[49m\u001b[38;5;241;43m=\u001b[39;49m\u001b[43mstorage_options\u001b[49m\u001b[43m,\u001b[49m\n\u001b[0;32m   3737\u001b[0m \u001b[43m\u001b[49m\u001b[43m)\u001b[49m\n",
      "File \u001b[1;32m~\\anaconda3\\lib\\site-packages\\pandas\\util\\_decorators.py:211\u001b[0m, in \u001b[0;36mdeprecate_kwarg.<locals>._deprecate_kwarg.<locals>.wrapper\u001b[1;34m(*args, **kwargs)\u001b[0m\n\u001b[0;32m    209\u001b[0m     \u001b[38;5;28;01melse\u001b[39;00m:\n\u001b[0;32m    210\u001b[0m         kwargs[new_arg_name] \u001b[38;5;241m=\u001b[39m new_arg_value\n\u001b[1;32m--> 211\u001b[0m \u001b[38;5;28;01mreturn\u001b[39;00m func(\u001b[38;5;241m*\u001b[39margs, \u001b[38;5;241m*\u001b[39m\u001b[38;5;241m*\u001b[39mkwargs)\n",
      "File \u001b[1;32m~\\anaconda3\\lib\\site-packages\\pandas\\io\\formats\\format.py:1189\u001b[0m, in \u001b[0;36mDataFrameRenderer.to_csv\u001b[1;34m(self, path_or_buf, encoding, sep, columns, index_label, mode, compression, quoting, quotechar, lineterminator, chunksize, date_format, doublequote, escapechar, errors, storage_options)\u001b[0m\n\u001b[0;32m   1168\u001b[0m     created_buffer \u001b[38;5;241m=\u001b[39m \u001b[38;5;28;01mFalse\u001b[39;00m\n\u001b[0;32m   1170\u001b[0m csv_formatter \u001b[38;5;241m=\u001b[39m CSVFormatter(\n\u001b[0;32m   1171\u001b[0m     path_or_buf\u001b[38;5;241m=\u001b[39mpath_or_buf,\n\u001b[0;32m   1172\u001b[0m     lineterminator\u001b[38;5;241m=\u001b[39mlineterminator,\n\u001b[1;32m   (...)\u001b[0m\n\u001b[0;32m   1187\u001b[0m     formatter\u001b[38;5;241m=\u001b[39m\u001b[38;5;28mself\u001b[39m\u001b[38;5;241m.\u001b[39mfmt,\n\u001b[0;32m   1188\u001b[0m )\n\u001b[1;32m-> 1189\u001b[0m \u001b[43mcsv_formatter\u001b[49m\u001b[38;5;241;43m.\u001b[39;49m\u001b[43msave\u001b[49m\u001b[43m(\u001b[49m\u001b[43m)\u001b[49m\n\u001b[0;32m   1191\u001b[0m \u001b[38;5;28;01mif\u001b[39;00m created_buffer:\n\u001b[0;32m   1192\u001b[0m     \u001b[38;5;28;01massert\u001b[39;00m \u001b[38;5;28misinstance\u001b[39m(path_or_buf, StringIO)\n",
      "File \u001b[1;32m~\\anaconda3\\lib\\site-packages\\pandas\\io\\formats\\csvs.py:241\u001b[0m, in \u001b[0;36mCSVFormatter.save\u001b[1;34m(self)\u001b[0m\n\u001b[0;32m    237\u001b[0m \u001b[38;5;124;03m\"\"\"\u001b[39;00m\n\u001b[0;32m    238\u001b[0m \u001b[38;5;124;03mCreate the writer & save.\u001b[39;00m\n\u001b[0;32m    239\u001b[0m \u001b[38;5;124;03m\"\"\"\u001b[39;00m\n\u001b[0;32m    240\u001b[0m \u001b[38;5;66;03m# apply compression and byte/text conversion\u001b[39;00m\n\u001b[1;32m--> 241\u001b[0m \u001b[38;5;28;01mwith\u001b[39;00m \u001b[43mget_handle\u001b[49m\u001b[43m(\u001b[49m\n\u001b[0;32m    242\u001b[0m \u001b[43m    \u001b[49m\u001b[38;5;28;43mself\u001b[39;49m\u001b[38;5;241;43m.\u001b[39;49m\u001b[43mfilepath_or_buffer\u001b[49m\u001b[43m,\u001b[49m\n\u001b[0;32m    243\u001b[0m \u001b[43m    \u001b[49m\u001b[38;5;28;43mself\u001b[39;49m\u001b[38;5;241;43m.\u001b[39;49m\u001b[43mmode\u001b[49m\u001b[43m,\u001b[49m\n\u001b[0;32m    244\u001b[0m \u001b[43m    \u001b[49m\u001b[43mencoding\u001b[49m\u001b[38;5;241;43m=\u001b[39;49m\u001b[38;5;28;43mself\u001b[39;49m\u001b[38;5;241;43m.\u001b[39;49m\u001b[43mencoding\u001b[49m\u001b[43m,\u001b[49m\n\u001b[0;32m    245\u001b[0m \u001b[43m    \u001b[49m\u001b[43merrors\u001b[49m\u001b[38;5;241;43m=\u001b[39;49m\u001b[38;5;28;43mself\u001b[39;49m\u001b[38;5;241;43m.\u001b[39;49m\u001b[43merrors\u001b[49m\u001b[43m,\u001b[49m\n\u001b[0;32m    246\u001b[0m \u001b[43m    \u001b[49m\u001b[43mcompression\u001b[49m\u001b[38;5;241;43m=\u001b[39;49m\u001b[38;5;28;43mself\u001b[39;49m\u001b[38;5;241;43m.\u001b[39;49m\u001b[43mcompression\u001b[49m\u001b[43m,\u001b[49m\n\u001b[0;32m    247\u001b[0m \u001b[43m    \u001b[49m\u001b[43mstorage_options\u001b[49m\u001b[38;5;241;43m=\u001b[39;49m\u001b[38;5;28;43mself\u001b[39;49m\u001b[38;5;241;43m.\u001b[39;49m\u001b[43mstorage_options\u001b[49m\u001b[43m,\u001b[49m\n\u001b[0;32m    248\u001b[0m \u001b[43m\u001b[49m\u001b[43m)\u001b[49m \u001b[38;5;28;01mas\u001b[39;00m handles:\n\u001b[0;32m    249\u001b[0m \n\u001b[0;32m    250\u001b[0m     \u001b[38;5;66;03m# Note: self.encoding is irrelevant here\u001b[39;00m\n\u001b[0;32m    251\u001b[0m     \u001b[38;5;28mself\u001b[39m\u001b[38;5;241m.\u001b[39mwriter \u001b[38;5;241m=\u001b[39m csvlib\u001b[38;5;241m.\u001b[39mwriter(\n\u001b[0;32m    252\u001b[0m         handles\u001b[38;5;241m.\u001b[39mhandle,\n\u001b[0;32m    253\u001b[0m         lineterminator\u001b[38;5;241m=\u001b[39m\u001b[38;5;28mself\u001b[39m\u001b[38;5;241m.\u001b[39mlineterminator,\n\u001b[1;32m   (...)\u001b[0m\n\u001b[0;32m    258\u001b[0m         quotechar\u001b[38;5;241m=\u001b[39m\u001b[38;5;28mself\u001b[39m\u001b[38;5;241m.\u001b[39mquotechar,\n\u001b[0;32m    259\u001b[0m     )\n\u001b[0;32m    261\u001b[0m     \u001b[38;5;28mself\u001b[39m\u001b[38;5;241m.\u001b[39m_save()\n",
      "File \u001b[1;32m~\\anaconda3\\lib\\site-packages\\pandas\\io\\common.py:856\u001b[0m, in \u001b[0;36mget_handle\u001b[1;34m(path_or_buf, mode, encoding, compression, memory_map, is_text, errors, storage_options)\u001b[0m\n\u001b[0;32m    851\u001b[0m \u001b[38;5;28;01melif\u001b[39;00m \u001b[38;5;28misinstance\u001b[39m(handle, \u001b[38;5;28mstr\u001b[39m):\n\u001b[0;32m    852\u001b[0m     \u001b[38;5;66;03m# Check whether the filename is to be opened in binary mode.\u001b[39;00m\n\u001b[0;32m    853\u001b[0m     \u001b[38;5;66;03m# Binary mode does not support 'encoding' and 'newline'.\u001b[39;00m\n\u001b[0;32m    854\u001b[0m     \u001b[38;5;28;01mif\u001b[39;00m ioargs\u001b[38;5;241m.\u001b[39mencoding \u001b[38;5;129;01mand\u001b[39;00m \u001b[38;5;124m\"\u001b[39m\u001b[38;5;124mb\u001b[39m\u001b[38;5;124m\"\u001b[39m \u001b[38;5;129;01mnot\u001b[39;00m \u001b[38;5;129;01min\u001b[39;00m ioargs\u001b[38;5;241m.\u001b[39mmode:\n\u001b[0;32m    855\u001b[0m         \u001b[38;5;66;03m# Encoding\u001b[39;00m\n\u001b[1;32m--> 856\u001b[0m         handle \u001b[38;5;241m=\u001b[39m \u001b[38;5;28;43mopen\u001b[39;49m\u001b[43m(\u001b[49m\n\u001b[0;32m    857\u001b[0m \u001b[43m            \u001b[49m\u001b[43mhandle\u001b[49m\u001b[43m,\u001b[49m\n\u001b[0;32m    858\u001b[0m \u001b[43m            \u001b[49m\u001b[43mioargs\u001b[49m\u001b[38;5;241;43m.\u001b[39;49m\u001b[43mmode\u001b[49m\u001b[43m,\u001b[49m\n\u001b[0;32m    859\u001b[0m \u001b[43m            \u001b[49m\u001b[43mencoding\u001b[49m\u001b[38;5;241;43m=\u001b[39;49m\u001b[43mioargs\u001b[49m\u001b[38;5;241;43m.\u001b[39;49m\u001b[43mencoding\u001b[49m\u001b[43m,\u001b[49m\n\u001b[0;32m    860\u001b[0m \u001b[43m            \u001b[49m\u001b[43merrors\u001b[49m\u001b[38;5;241;43m=\u001b[39;49m\u001b[43merrors\u001b[49m\u001b[43m,\u001b[49m\n\u001b[0;32m    861\u001b[0m \u001b[43m            \u001b[49m\u001b[43mnewline\u001b[49m\u001b[38;5;241;43m=\u001b[39;49m\u001b[38;5;124;43m\"\u001b[39;49m\u001b[38;5;124;43m\"\u001b[39;49m\u001b[43m,\u001b[49m\n\u001b[0;32m    862\u001b[0m \u001b[43m        \u001b[49m\u001b[43m)\u001b[49m\n\u001b[0;32m    863\u001b[0m     \u001b[38;5;28;01melse\u001b[39;00m:\n\u001b[0;32m    864\u001b[0m         \u001b[38;5;66;03m# Binary mode\u001b[39;00m\n\u001b[0;32m    865\u001b[0m         handle \u001b[38;5;241m=\u001b[39m \u001b[38;5;28mopen\u001b[39m(handle, ioargs\u001b[38;5;241m.\u001b[39mmode)\n",
      "\u001b[1;31mPermissionError\u001b[0m: [Errno 13] Permission denied: 'marego_0717_eval_pred_H.csv'"
     ]
    }
   ],
   "source": [
    "eval_res[[\"event_id\",'estimated_delivery_date_H']].to_csv('marego_0717_eval_pred_H.csv')"
   ]
  },
  {
   "cell_type": "code",
   "execution_count": null,
   "id": "77239b1a",
   "metadata": {},
   "outputs": [],
   "source": [
    "eval_res[[\"event_id\",'estimated_delivery_date_V']].to_csv('marego_0717_eval_pred_V.csv')"
   ]
  },
  {
   "cell_type": "code",
   "execution_count": null,
   "id": "f193c931",
   "metadata": {},
   "outputs": [],
   "source": [
    "eval_res[[\"event_id\",'estimated_delivery_date_V']]tc"
   ]
  },
  {
   "cell_type": "code",
   "execution_count": null,
   "id": "260c5e3a",
   "metadata": {},
   "outputs": [],
   "source": [
    "eval_true=pd.read_csv('eval_Labels.csv')\n",
    "len(eval_true)"
   ]
  },
  {
   "cell_type": "code",
   "execution_count": null,
   "id": "b738828c",
   "metadata": {},
   "outputs": [],
   "source": [
    "dict_date=dict(zip(list(eval_true.event_id),list(eval_true.delivery_date_time_utc)))"
   ]
  },
  {
   "cell_type": "code",
   "execution_count": null,
   "id": "1a3119d8",
   "metadata": {},
   "outputs": [],
   "source": [
    "dict_y=dict(zip(list(eval_true.event_id),list(eval_true.days_to_delivery)))"
   ]
  },
  {
   "cell_type": "code",
   "execution_count": null,
   "id": "9f915473",
   "metadata": {},
   "outputs": [],
   "source": [
    "eval['date_true']=eval['event_id'].apply(lambda x:dict_date[x])"
   ]
  },
  {
   "cell_type": "code",
   "execution_count": null,
   "id": "23b66d9f",
   "metadata": {},
   "outputs": [],
   "source": [
    "eval['y_true']=eval['event_id'].apply(lambda x:dict_y[x])"
   ]
  },
  {
   "cell_type": "code",
   "execution_count": null,
   "id": "66a1179c",
   "metadata": {},
   "outputs": [],
   "source": [
    "acc_res(eval['y_true'])"
   ]
  },
  {
   "cell_type": "code",
   "execution_count": null,
   "id": "f362e2b2",
   "metadata": {},
   "outputs": [],
   "source": [
    "eval.head(5)"
   ]
  },
  {
   "cell_type": "code",
   "execution_count": null,
   "id": "2c39fc13",
   "metadata": {},
   "outputs": [],
   "source": [
    "def get_timestamp(x):\n",
    "    \n",
    "    #t=x.split(' ')[0]\n",
    "    try:\n",
    "        return datetime.strptime(x, '%Y-%m-%d %H:%M:%S')\n",
    "    except:\n",
    "        x=x.split('.')[0]\n",
    "        return datetime.strptime(x, '%Y-%m-%d %H:%M:%S')"
   ]
  },
  {
   "cell_type": "code",
   "execution_count": null,
   "id": "e1759ee7",
   "metadata": {},
   "outputs": [],
   "source": [
    "eval['date_true_format']=eval['date_true'].apply(get_timestamp)"
   ]
  },
  {
   "cell_type": "code",
   "execution_count": null,
   "id": "f1dd7f74",
   "metadata": {},
   "outputs": [],
   "source": [
    "zip_mapping=pd.read_csv('DS0500.csv',low_memory=False)\n",
    "zip_mapping.head()\n",
    "\n",
    "zip_to_timezone=dict(zip(zip_mapping.EVENZIP5,zip_mapping.TIMEZONE))"
   ]
  },
  {
   "cell_type": "code",
   "execution_count": null,
   "id": "73bb3174",
   "metadata": {},
   "outputs": [],
   "source": [
    "def timezone_map(x):\n",
    "    return zip_to_timezone[x]"
   ]
  },
  {
   "cell_type": "code",
   "execution_count": null,
   "id": "b6d738b2",
   "metadata": {},
   "outputs": [],
   "source": [
    "#eval['timezone']=eval['destination_zipcode'].apply(timezone_map)"
   ]
  },
  {
   "cell_type": "code",
   "execution_count": null,
   "id": "cd8eb9ce",
   "metadata": {},
   "outputs": [],
   "source": [
    "from_zone = tz.gettz('UTC')\n",
    "\n",
    "def get_local_tz(timezone,utc):\n",
    "    to_zone = tz.gettz(timezone)\n",
    "    utc = utc.replace(tzinfo=from_zone)\n",
    "    return utc.astimezone(to_zone)"
   ]
  },
  {
   "cell_type": "code",
   "execution_count": null,
   "id": "70c3122f",
   "metadata": {},
   "outputs": [],
   "source": [
    "eval['format_date_true_local']   = eval.apply(lambda x: get_local_tz(x.des_tz, x.date_true_format) ,axis=1)"
   ]
  },
  {
   "cell_type": "code",
   "execution_count": null,
   "id": "10955e5b",
   "metadata": {},
   "outputs": [],
   "source": [
    "#diff=eval['format_date_true_local'][1].date()-eval.estimated_delivery_time_local_V[1].date()"
   ]
  },
  {
   "cell_type": "code",
   "execution_count": null,
   "id": "94d91e33",
   "metadata": {},
   "outputs": [],
   "source": [
    "diff.days"
   ]
  },
  {
   "cell_type": "code",
   "execution_count": null,
   "id": "6f51ef71",
   "metadata": {},
   "outputs": [],
   "source": [
    "eval.estimated_delivery_date1_H[1]"
   ]
  },
  {
   "cell_type": "code",
   "execution_count": null,
   "id": "44eb81e8",
   "metadata": {},
   "outputs": [],
   "source": [
    "eval.estimated_delivery_time_local_V[1]"
   ]
  },
  {
   "cell_type": "code",
   "execution_count": null,
   "id": "8085ceec",
   "metadata": {},
   "outputs": [],
   "source": [
    "def date_diff(day1,day2):\n",
    "    diff=day2.date()-day1.date()\n",
    "    return diff.days"
   ]
  },
  {
   "cell_type": "code",
   "execution_count": null,
   "id": "3314463a",
   "metadata": {},
   "outputs": [],
   "source": [
    "eval['res_v']=eval.apply(lambda x:date_diff(x.format_date_true_local,x.estimated_delivery_date_V),axis=1)"
   ]
  },
  {
   "cell_type": "code",
   "execution_count": null,
   "id": "8cfbb75a",
   "metadata": {},
   "outputs": [],
   "source": [
    "eval['res_h']=eval.apply(lambda x:date_diff(x.format_date_true_local,x.estimated_delivery_date_H),axis=1)"
   ]
  },
  {
   "cell_type": "code",
   "execution_count": null,
   "id": "c64d8b94",
   "metadata": {},
   "outputs": [],
   "source": []
  },
  {
   "cell_type": "code",
   "execution_count": null,
   "id": "1b9f162b",
   "metadata": {},
   "outputs": [],
   "source": [
    "eval['res_v_y']= eval['y_eval_V'] -eval['y_true']"
   ]
  },
  {
   "cell_type": "code",
   "execution_count": null,
   "id": "35a2f09c",
   "metadata": {},
   "outputs": [],
   "source": [
    " "
   ]
  },
  {
   "cell_type": "code",
   "execution_count": null,
   "id": "5828e160",
   "metadata": {},
   "outputs": [],
   "source": [
    "def acc_res(res):\n",
    "    lis=[]\n",
    "    for i in res:\n",
    "        if i==0:\n",
    "            lis.append(1)\n",
    "        else:\n",
    "            lis.append(0)\n",
    "    return sum(lis)/len(lis)\n",
    "\n",
    "def acc_res_1(res):\n",
    "    lis=[]\n",
    "    for i in res:\n",
    "        if i>=0 and i<=1:\n",
    "            lis.append(1)\n",
    "        else:\n",
    "            lis.append(0)\n",
    "    return sum(lis)/len(lis)\n",
    "\n",
    "def acc_res_2(res):\n",
    "    lis=[]\n",
    "    for i in res:\n",
    "        if i>=0 and i<=2:\n",
    "            lis.append(1)\n",
    "        else:\n",
    "            lis.append(0)\n",
    "    return sum(lis)/len(lis)\n",
    "\n",
    "def acc_res_3(res):\n",
    "    lis=[]\n",
    "    for i in res:\n",
    "        if i>=0 and i<=3:\n",
    "            lis.append(1)\n",
    "        else:\n",
    "            lis.append(0)\n",
    "    return sum(lis)/len(lis)\n",
    "\n",
    "def acc_res_4(res):\n",
    "    lis=[]\n",
    "    for i in res:\n",
    "        if i>=0 and i<=4:\n",
    "            lis.append(1)\n",
    "        else:\n",
    "            lis.append(0)\n",
    "    return sum(lis)/len(lis)\n",
    "\n",
    "def acc_res_5(res):\n",
    "    lis=[]\n",
    "    for i in res:\n",
    "        if i>=0 and i<=5:\n",
    "            lis.append(1)\n",
    "        else:\n",
    "            lis.append(0)\n",
    "    return sum(lis)/len(lis)\n",
    "\n",
    "def acc_res_(res):\n",
    "    lis=[]\n",
    "    for i in res:\n",
    "        if i>=0:\n",
    "            lis.append(1)\n",
    "        else:\n",
    "            lis.append(0)\n",
    "    return sum(lis)/len(lis)"
   ]
  },
  {
   "cell_type": "code",
   "execution_count": null,
   "id": "a3b312de",
   "metadata": {},
   "outputs": [],
   "source": []
  },
  {
   "cell_type": "code",
   "execution_count": null,
   "id": "458fe42a",
   "metadata": {},
   "outputs": [],
   "source": []
  },
  {
   "cell_type": "code",
   "execution_count": null,
   "id": "9481924a",
   "metadata": {},
   "outputs": [],
   "source": [
    "eval1=eval[eval.maergo_external_status!='Exception']\n",
    "eval1=eval1[eval1.pracel_month!=12]\n",
    "eval1=eval1[eval1.maergo_external_status!='Delivered']\n",
    "eval1=eval1[eval1.maergo_external_status!='Out for Delivery']\n",
    "eval1=eval1[eval1.maergo_external_status!='Exception']\n",
    "\n",
    "acc_res_1(eval1['res_v']) "
   ]
  },
  {
   "cell_type": "code",
   "execution_count": null,
   "id": "51d13d7b",
   "metadata": {},
   "outputs": [],
   "source": [
    "acc_res_2(eval1['res_v']) "
   ]
  },
  {
   "cell_type": "markdown",
   "id": "4405343f",
   "metadata": {},
   "source": [
    " acc_res_2(eval1['res_v']) "
   ]
  },
  {
   "cell_type": "code",
   "execution_count": null,
   "id": "082d6368",
   "metadata": {},
   "outputs": [],
   "source": [
    "#eval.groupby('maergo_external_status').agg({'res_v':acc_res_1})"
   ]
  },
  {
   "cell_type": "code",
   "execution_count": null,
   "id": "81727cf2",
   "metadata": {},
   "outputs": [],
   "source": [
    "eval.groupby('maergo_external_status').agg({'res_v':[len,acc_res_1, acc_res_2, acc_res_3,acc_res_4,acc_res_5,acc_res_]}).reset_index()"
   ]
  },
  {
   "cell_type": "code",
   "execution_count": null,
   "id": "a2424af9",
   "metadata": {},
   "outputs": [],
   "source": []
  },
  {
   "cell_type": "code",
   "execution_count": null,
   "id": "64a416f0",
   "metadata": {
    "scrolled": true
   },
   "outputs": [],
   "source": [
    "eval.groupby('maergo_external_status').agg({'res_h':[len,acc_res_1, acc_res_2, acc_res_3,acc_res_4,acc_res_5,acc_res_]}).reset_index()"
   ]
  },
  {
   "cell_type": "code",
   "execution_count": null,
   "id": "a758fdf8",
   "metadata": {},
   "outputs": [],
   "source": [
    "eval_test=eval[(eval.maergo_external_status=='In-Transit: Arrived at Sort Center') | (eval.maergo_external_status=='Label Created') ]"
   ]
  },
  {
   "cell_type": "code",
   "execution_count": null,
   "id": "edec6e98",
   "metadata": {},
   "outputs": [],
   "source": [
    "eval_test.columns"
   ]
  },
  {
   "cell_type": "code",
   "execution_count": null,
   "id": "d235da78",
   "metadata": {},
   "outputs": [],
   "source": [
    "#look at performance on: 1) each stage, give acc_1, acc_2, .. acc_+"
   ]
  },
  {
   "cell_type": "code",
   "execution_count": null,
   "id": "999c9c42",
   "metadata": {},
   "outputs": [],
   "source": [
    "eval_test=eval_test[['provider', 'provider_status', 'provider_tracking_code', 'shipper_id',\n",
    "       'origin_name', 'maergo_internal_status', 'maergo_external_status',\n",
    "       'maergo_tracking_code', 'maergo_message', 'event_date_time_utc',\n",
    "       'event_date_time_local', 'event_time_zone', 'label_created_date_time',\n",
    "       'event_city', 'event_state', 'event_zipcode', 'event_lat', 'event_lng',\n",
    "       'destination_city', 'destination_state', 'destination_zipcode',\n",
    "       'destination_country', 'hidden', 'distribution_center_id', 'client_id',\n",
    "       'event_id', 'delivery_event_id', 'sort_center', 'sort_code',\n",
    "       'origin_lon', 'origin_lat', 'distance_ori', 'des_lon', 'des_lat',\n",
    "       'distance_des', 'format_event_date_time_local', 'pracel_month',\n",
    "       'month_norm', 'cos_month', 'sin_month', 'pracel_week', 'week_norm',\n",
    "       'cos_week', 'sin_week',    \n",
    "       'estimated_delivery_time_local',  \n",
    "        'estimated_delivery_date_V', 'y_true',\n",
    "       'date_true', 'date_true_format',   'format_date_true_local',\n",
    "       'res_v',   \n",
    "        'y_eval_V']]"
   ]
  },
  {
   "cell_type": "code",
   "execution_count": null,
   "id": "bc5a1522",
   "metadata": {},
   "outputs": [],
   "source": [
    "eval_test.to_csv('evaluation_data.csv')"
   ]
  },
  {
   "cell_type": "code",
   "execution_count": null,
   "id": "8ddf71fa",
   "metadata": {},
   "outputs": [],
   "source": [
    " len(eval_test)"
   ]
  },
  {
   "cell_type": "code",
   "execution_count": null,
   "id": "2aa75632",
   "metadata": {},
   "outputs": [],
   "source": [
    " eval_test.groupby('maergo_external_status').apply(len)"
   ]
  },
  {
   "cell_type": "code",
   "execution_count": null,
   "id": "cb3b70d1",
   "metadata": {},
   "outputs": [],
   "source": [
    " eval.groupby('maergo_external_status').agg({'res_v': [len,acc_res_1,acc_res_2,acc_res_3,acc_res_]})"
   ]
  },
  {
   "cell_type": "code",
   "execution_count": null,
   "id": "e7f48e96",
   "metadata": {},
   "outputs": [],
   "source": [
    " "
   ]
  },
  {
   "cell_type": "code",
   "execution_count": null,
   "id": "c047d804",
   "metadata": {},
   "outputs": [],
   "source": [
    " "
   ]
  },
  {
   "cell_type": "code",
   "execution_count": null,
   "id": "b1ac0fe6",
   "metadata": {},
   "outputs": [],
   "source": [
    " "
   ]
  },
  {
   "cell_type": "code",
   "execution_count": null,
   "id": "d3f3ad92",
   "metadata": {},
   "outputs": [],
   "source": [
    " "
   ]
  },
  {
   "cell_type": "code",
   "execution_count": null,
   "id": "b87f1a55",
   "metadata": {},
   "outputs": [],
   "source": [
    " "
   ]
  },
  {
   "cell_type": "code",
   "execution_count": null,
   "id": "53b58d24",
   "metadata": {},
   "outputs": [],
   "source": []
  },
  {
   "cell_type": "code",
   "execution_count": null,
   "id": "1709e6d0",
   "metadata": {},
   "outputs": [],
   "source": []
  },
  {
   "cell_type": "code",
   "execution_count": 217,
   "id": "3e1f06af",
   "metadata": {},
   "outputs": [],
   "source": [
    "eval=eval[[ 'provider', 'provider_status', 'provider_tracking_code',\n",
    "       'shipper_id', 'origin_name', 'maergo_internal_status',\n",
    "       'maergo_external_status', 'maergo_tracking_code', 'maergo_message',\n",
    "       'event_date_time_utc', 'event_date_time_local', 'event_time_zone',\n",
    "       'label_created_date_time', 'event_city', 'event_state', 'event_zipcode',\n",
    "       'event_lat', 'event_lng', 'destination_city', 'destination_state',\n",
    "       'destination_zipcode', 'destination_country', 'hidden',\n",
    "       'distribution_center_id', 'client_id', 'event_id', 'delivery_event_id',\n",
    "       'sort_center', 'sort_code', 'origin_lon', 'origin_lat', 'distance_ori',\n",
    "       'des_lon', 'des_lat', 'distance_des', 'format_event_date_time_local',\n",
    "       'pracel_month', 'month_norm', 'cos_month', 'sin_month', 'pracel_week',\n",
    "       'week_norm', 'cos_week', 'sin_week', 'y_eval_H', 'y_eval_V',\n",
    "       'estimated_delivery_time_local', 'estimated_delivery_date_H',\n",
    "       'estimated_delivery_date1_H', 'estimated_delivery_date_H',\n",
    "       'estimated_delivery_time_local_V', 'y_true', 'date_true',\n",
    "       'date_true_format', 'timezone', 'format_date_true_local', 'res_v',\n",
    "       'res_h']]"
   ]
  },
  {
   "cell_type": "code",
   "execution_count": null,
   "id": "27242d2d",
   "metadata": {},
   "outputs": [],
   "source": [
    "eval.to_csv('marego_evaluation_v_h_pred.csv')"
   ]
  },
  {
   "cell_type": "code",
   "execution_count": null,
   "id": "a9edb395",
   "metadata": {},
   "outputs": [],
   "source": []
  },
  {
   "cell_type": "code",
   "execution_count": null,
   "id": "a11699f5",
   "metadata": {},
   "outputs": [],
   "source": []
  }
 ],
 "metadata": {
  "kernelspec": {
   "display_name": "Python 3 (ipykernel)",
   "language": "python",
   "name": "python3"
  },
  "language_info": {
   "codemirror_mode": {
    "name": "ipython",
    "version": 3
   },
   "file_extension": ".py",
   "mimetype": "text/x-python",
   "name": "python",
   "nbconvert_exporter": "python",
   "pygments_lexer": "ipython3",
   "version": "3.10.9"
  }
 },
 "nbformat": 4,
 "nbformat_minor": 5
}
